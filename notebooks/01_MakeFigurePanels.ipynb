{
 "cells": [
  {
   "cell_type": "code",
   "execution_count": 10,
   "metadata": {},
   "outputs": [],
   "source": [
    "import itertools\n",
    "import numpy as np\n",
    "import pandas as pd\n",
    "import seaborn as sns\n",
    "\n",
    "import chure_model as model\n",
    "consts = model.load_constants()\n",
    "\n",
    "from matplotlib import pyplot as plt\n",
    "from scipy.stats import linregress\n",
    "\n",
    "plt.style.use('style.mpl')"
   ]
  },
  {
   "cell_type": "code",
   "execution_count": 11,
   "metadata": {},
   "outputs": [
    {
     "data": {
      "text/html": [
       "<div>\n",
       "<style scoped>\n",
       "    .dataframe tbody tr th:only-of-type {\n",
       "        vertical-align: middle;\n",
       "    }\n",
       "\n",
       "    .dataframe tbody tr th {\n",
       "        vertical-align: top;\n",
       "    }\n",
       "\n",
       "    .dataframe thead th {\n",
       "        text-align: right;\n",
       "    }\n",
       "</style>\n",
       "<table border=\"1\" class=\"dataframe\">\n",
       "  <thead>\n",
       "    <tr style=\"text-align: right;\">\n",
       "      <th></th>\n",
       "      <th>growth_rate_hr</th>\n",
       "      <th>elongation_rate_aa_s</th>\n",
       "      <th>source</th>\n",
       "      <th>notes</th>\n",
       "    </tr>\n",
       "  </thead>\n",
       "  <tbody>\n",
       "    <tr>\n",
       "      <th>0</th>\n",
       "      <td>1.80</td>\n",
       "      <td>16.7</td>\n",
       "      <td>Dai et al., 2016</td>\n",
       "      <td>Table S1</td>\n",
       "    </tr>\n",
       "    <tr>\n",
       "      <th>1</th>\n",
       "      <td>1.28</td>\n",
       "      <td>16.3</td>\n",
       "      <td>Dai et al., 2016</td>\n",
       "      <td>Table S1</td>\n",
       "    </tr>\n",
       "    <tr>\n",
       "      <th>2</th>\n",
       "      <td>1.12</td>\n",
       "      <td>16.1</td>\n",
       "      <td>Dai et al., 2016</td>\n",
       "      <td>Table S1</td>\n",
       "    </tr>\n",
       "    <tr>\n",
       "      <th>3</th>\n",
       "      <td>0.98</td>\n",
       "      <td>15.9</td>\n",
       "      <td>Dai et al., 2016</td>\n",
       "      <td>Table S1</td>\n",
       "    </tr>\n",
       "    <tr>\n",
       "      <th>4</th>\n",
       "      <td>0.75</td>\n",
       "      <td>14.9</td>\n",
       "      <td>Dai et al., 2016</td>\n",
       "      <td>Table S1</td>\n",
       "    </tr>\n",
       "  </tbody>\n",
       "</table>\n",
       "</div>"
      ],
      "text/plain": [
       "   growth_rate_hr  elongation_rate_aa_s            source     notes\n",
       "0            1.80                  16.7  Dai et al., 2016  Table S1\n",
       "1            1.28                  16.3  Dai et al., 2016  Table S1\n",
       "2            1.12                  16.1  Dai et al., 2016  Table S1\n",
       "3            0.98                  15.9  Dai et al., 2016  Table S1\n",
       "4            0.75                  14.9  Dai et al., 2016  Table S1"
      ]
     },
     "execution_count": 11,
     "metadata": {},
     "output_type": "execute_result"
    }
   ],
   "source": [
    "# Load the gene metadata and the replicate averaged absolute abundance data\n",
    "gene_metadata_df = pd.read_csv('../data/ecoli_genelist_master.csv', index_col=1)\n",
    "abund_df = pd.read_csv('../data/Chure_mean_abundance_measurements.csv', index_col=0)\n",
    "schmidt_data = pd.read_csv('../data/schmidt_2016_mean_abundance_measurements.csv', index_col=0)\n",
    "slopes_df = pd.read_csv('../data/schmidt_2016_regression_slopes.csv', index_col=[0,1])\n",
    "\n",
    "# Conditions of interest -- single carbon sources in batch\n",
    "conds = ['fructose', 'fumarate', 'galactose',\n",
    "         'glucosamine', 'glucose', 'glycerol',\n",
    "         'mannose', 'pyruvate', 'succinate', 'xylose']\n",
    "\n",
    "# Get the growth rates for each condition\n",
    "lambdas = abund_df.groupby('dataset,condition'.split(',')).growth_rate_hr.first()\n",
    "cond_lambdas = lambdas.loc['schmidt_2016', conds].reset_index().drop('dataset', axis=1).set_index('condition')\n",
    "\n",
    "# Load ribosomal mass fractions from the Chure 2023 Elife paper\n",
    "ribosome_mass_fractions = pd.read_csv('../data/ecoli_ribosomal_mass_fractions.csv')\n",
    "peptide_elongation_rates = pd.read_csv('../data/ecoli_peptide_elongation_rates.csv')\n",
    "peptide_elongation_rates.head()"
   ]
  },
  {
   "cell_type": "code",
   "execution_count": 12,
   "metadata": {},
   "outputs": [],
   "source": [
    "# Plotting dataframe for glucose/glycerol comparison\n",
    "mask = schmidt_data.condition.isin('glucose,glycerol'.split(','))\n",
    "two_conds = schmidt_data[mask].reset_index().pivot(\n",
    "    index='b_number', columns='condition', values='copies_per_cell')"
   ]
  },
  {
   "cell_type": "code",
   "execution_count": 13,
   "metadata": {},
   "outputs": [
    {
     "name": "stderr",
     "output_type": "stream",
     "text": [
      "/opt/miniconda3/lib/python3.8/site-packages/pandas/core/arraylike.py:364: RuntimeWarning: divide by zero encountered in log10\n",
      "  result = getattr(ufunc, method)(*inputs, **kwargs)\n",
      "No artists with labels found to put in legend.  Note that artists whose label start with an underscore are ignored when legend() is called with no argument.\n"
     ]
    },
    {
     "data": {
      "image/png": "[encoded data removed]",
      "text/plain": [
       "<Figure size 162x180 with 1 Axes>"
      ]
     },
     "metadata": {
      "needs_background": "light"
     },
     "output_type": "display_data"
    }
   ],
   "source": [
    "fig, axs = plt.subplots(nrows=1, ncols=1, figsize=(2.25, 2.5))\n",
    "pal = sns.color_palette()\n",
    "\n",
    "my_ax = plt.gca()\n",
    "plt.xscale('log')\n",
    "plt.yscale('log')\n",
    "\n",
    "log_x = np.log10(two_conds.glucose)\n",
    "log_y = np.log10(two_conds.glycerol)\n",
    "mask = np.logical_and(np.isfinite(log_x), np.isfinite(log_y)) \n",
    "\n",
    "# Use our simple estimate of the slope from above\n",
    "est_slope = slopes_df.loc['glucose', 'glycerol'].huber_regression_slope\n",
    "pred_xs = np.linspace(1, 1e5, 100)\n",
    "pred_ys = est_slope*pred_xs\n",
    "\n",
    "sns.scatterplot(data=two_conds, x='glucose', y='glycerol', color=pal[0])\n",
    "plt.plot(pred_xs, pred_ys, color='k', ls='--')\n",
    "#plt.text(0.95, 0.05, 'slope $\\\\approx {0:.2f}$'.format(est_slope),\n",
    "#         transform=plt.gca().transAxes, ha='right', va='bottom', fontsize=8)\n",
    "\n",
    "gene_names = 'glpa,glpb,glpc,glpk,glpf,glpd'.split(',')\n",
    "gene_data = gene_metadata_df.loc[gene_metadata_df.gene_name.isin(gene_names)]\n",
    "b_nums = [b for b in gene_data.index.values if b in two_conds.index.values]\n",
    "sns.scatterplot(data=two_conds.loc[b_nums], x='glucose', y='glycerol', color=pal[1], label='glp genes')\n",
    "#plt.title('Global Expression Changes')\n",
    "plt.xlabel('glucose protein levels\\ngrowth rate $\\\\lambda_1 = {0}$ hr$^{{-1}}$'.format(cond_lambdas.loc['glucose'].growth_rate_hr))\n",
    "plt.ylabel('glycerol, $\\\\lambda_2 = {0}$ hr$^{{-1}}$'.format(cond_lambdas.loc['glycerol'].growth_rate_hr))\n",
    "plt.legend(fontsize=8, loc=2).set_visible(False)\n",
    "\n",
    "# inset: lambda ratio vs fit slope, akin to Leeat's MSB paper. \n",
    "inset_ax = my_ax.inset_axes([0.6, 0.1, 0.35, 0.35])\n",
    "xs = np.linspace(0.5, 1.5, 100)\n",
    "inset_ax.plot(xs, xs, color='k', ls='--', lw=0.75, alpha=0.9)\n",
    "sns.scatterplot(data=slopes_df, x='lambda_ratio', y='huber_regression_slope', color='grey', \n",
    "                sizes=3, ax=inset_ax)\n",
    "inset_ax.set_xlabel('$\\lambda_2 / \\lambda_1$', fontsize=8, labelpad=2)\n",
    "inset_ax.set_ylabel('trend slope', fontsize=8, labelpad=2)\n",
    "inset_ax.set_xticks([])\n",
    "inset_ax.set_yticks([])\n",
    "inset_ax.legend().set_visible(False)\n",
    "inset_ax.tick_params(axis='both', which='both', length=0, pad=0)\n",
    "\n",
    "plt.tight_layout(pad=0.1)\n",
    "plt.savefig('../output/fig1_a.png', facecolor='white', dpi=300)\n",
    "plt.show()"
   ]
  },
  {
   "cell_type": "code",
   "execution_count": 17,
   "metadata": {},
   "outputs": [
    {
     "data": {
      "image/png": "[encoded data removed]",
      "text/plain": [
       "<Figure size 162x180 with 1 Axes>"
      ]
     },
     "metadata": {
      "needs_background": "light"
     },
     "output_type": "display_data"
    }
   ],
   "source": [
    "# Use Chure et al. model code to compute the ribosomal mass fraction\n",
    "# for different strategies, as in the paper. \n",
    "\n",
    "# Load various constants\n",
    "gamma_max = consts['gamma_max']\n",
    "Kd_cpc = consts['Kd_cpc']\n",
    "phi_O = consts['phi_O']\n",
    "phiRb_range = np.linspace(0.0001, 1 - phi_O -0.001)\n",
    "\n",
    "# Compute the continuous solutions for the scenarios.\n",
    "nu_max = np.linspace(0.01, 20, 400)\n",
    "\n",
    "phiRb_strat1 = 0.20 * np.ones(len(nu_max))\n",
    "phiRb_strat2 = model.phiRb_constant_translation(gamma_max, nu_max, 10, Kd_cpc, phi_O)\n",
    "phiRb_strat3 = model.phiRb_optimal_allocation(gamma_max, nu_max, Kd_cpc, phi_O)\n",
    "lam_strat1 = model.steady_state_growth_rate(gamma_max, phiRb_strat1, nu_max, Kd_cpc, phi_O)\n",
    "lam_strat2 = model.steady_state_growth_rate(gamma_max, phiRb_strat2, nu_max, Kd_cpc, phi_O)\n",
    "lam_strat3 = model.steady_state_growth_rate(gamma_max, phiRb_strat3, nu_max, Kd_cpc, phi_O)\n",
    "gamma_strat1 = model.steady_state_gamma(gamma_max, phiRb_strat1, nu_max, Kd_cpc, phi_O)\n",
    "gamma_strat2 = model.steady_state_gamma(gamma_max, phiRb_strat2, nu_max, Kd_cpc, phi_O)\n",
    "gamma_strat3 = model.steady_state_gamma(gamma_max, phiRb_strat3, nu_max, Kd_cpc, phi_O)\n",
    "\n",
    "#%%\n",
    "# Instantiate the figure for the data plots\n",
    "plt.figure(figsize=(2.25, 2.5))\n",
    "plt.xlabel('growth rate $\\\\lambda$ (hr$^{-1}$)\\n ')\n",
    "plt.ylabel('translation speed (AAs/s)')\n",
    "plt.ylim([6, 20.5])\n",
    "plt.yticks([10, 15, 20])\n",
    "\n",
    "# Plot elongation rates\n",
    "sns.scatterplot(data=peptide_elongation_rates, x='growth_rate_hr', y='elongation_rate_aa_s', alpha=0.75, color='grey')\n",
    "\n",
    "# Plot the solutions fo the three scenarios\n",
    "xkcd_colors = 'reddish purple|orange pink|dark blue green'.split('|')\n",
    "pal = sns.xkcd_palette(xkcd_colors)\n",
    "pal = sns.color_palette('cividis', n_colors=3)\n",
    "for phi, lam, gam, c in zip([phiRb_strat1, phiRb_strat2, phiRb_strat3],\n",
    "                            [lam_strat1, lam_strat2, lam_strat3],\n",
    "                            [gamma_strat1, gamma_strat2, gamma_strat3],\n",
    "                            [pal[2], pal[1], pal[0]]):\n",
    "    plt.plot(lam, gam * consts['m_Rb'] / 3600, '-', lw=1.5, color=c)\n",
    "\n",
    "plt.tight_layout(pad=0.1)\n",
    "plt.savefig('../output/fig1_d.png', facecolor='white', dpi=300)\n",
    "plt.show()"
   ]
  },
  {
   "cell_type": "code",
   "execution_count": 16,
   "metadata": {},
   "outputs": [
    {
     "data": {
      "image/png": "[encoded data removed]",
      "text/plain": [
       "<Figure size 64.8x64.8 with 1 Axes>"
      ]
     },
     "metadata": {},
     "output_type": "display_data"
    }
   ],
   "source": [
    "plt.figure(figsize=(0.9, 0.9))\n",
    "\n",
    "ribosomal_genes = 'rpla,rpsa,tufa'.split(',')\n",
    "nice_gene_names = 'rplA,rpsA,tufA'.split(',')\n",
    "ribosomal_b_nums = gene_metadata_df[gene_metadata_df.gene_name.isin(ribosomal_genes)].index.values\n",
    "bnum2name = dict(zip(ribosomal_b_nums, nice_gene_names))\n",
    "\n",
    "tmp = schmidt_data.reset_index()\n",
    "tmp = tmp[tmp.b_number.isin(ribosomal_b_nums)].copy()\n",
    "tmp['gene_name'] = tmp.b_number.apply(lambda x: bnum2name[x])\n",
    "\n",
    "plt.yscale('log')\n",
    "pal = sns.color_palette('Oranges_r', n_colors=5)\n",
    "sns.scatterplot(data=tmp, x='growth_rate_hr', y='mass_fraction',\n",
    "                hue='gene_name', palette=pal[:3], sizes=3,\n",
    "                hue_order=nice_gene_names)\n",
    "\n",
    "for i, b in enumerate(ribosomal_b_nums):\n",
    "    x = tmp[tmp.b_number == b].growth_rate_hr\n",
    "    y = tmp[tmp.b_number == b].mass_fraction\n",
    "    reg = linregress(x, y)\n",
    "    pred_xs = np.linspace(x.min(), x.max(), 100)\n",
    "    pred_ys = reg.slope*pred_xs + reg.intercept\n",
    "    plt.plot(pred_xs, pred_ys, color=pal[i], ls='--', zorder=-10)\n",
    "\n",
    "plt.xlabel('$\\lambda$ (hr$^{-1}$)', fontsize=8, labelpad=2)\n",
    "plt.ylabel('mass fraction', fontsize=8, labelpad=2)\n",
    "plt.legend(title=None, fontsize=8).set_visible(False)\n",
    "plt.xticks([])\n",
    "plt.yticks([])\n",
    "plt.tick_params(axis='both', which='both', length=0, pad=0)\n",
    "\n",
    "plt.tight_layout(pad=0.1)\n",
    "plt.savefig('../output/fig1_c.png', dpi=300)\n",
    "plt.show()"
   ]
  },
  {
   "cell_type": "code",
   "execution_count": null,
   "metadata": {},
   "outputs": [],
   "source": []
  }
 ],
 "metadata": {
  "kernelspec": {
   "display_name": "conda.base",
   "language": "python",
   "name": "conda.base"
  },
  "language_info": {
   "codemirror_mode": {
    "name": "ipython",
    "version": 3
   },
   "file_extension": ".py",
   "mimetype": "text/x-python",
   "name": "python",
   "nbconvert_exporter": "python",
   "pygments_lexer": "ipython3",
   "version": "3.8.5"
  }
 },
 "nbformat": 4,
 "nbformat_minor": 4
}
