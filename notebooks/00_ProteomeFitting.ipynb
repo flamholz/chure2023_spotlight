{
 "cells": [
  {
   "cell_type": "code",
   "execution_count": 1,
   "metadata": {},
   "outputs": [],
   "source": [
    "import itertools\n",
    "import numpy as np\n",
    "import pandas as pd\n",
    "import seaborn as sns\n",
    "\n",
    "from matplotlib import pyplot as plt\n",
    "from scipy.stats import linregress\n",
    "from sklearn.linear_model import LinearRegression, HuberRegressor, RANSACRegressor\n",
    "\n",
    "plt.style.use('style.mpl')"
   ]
  },
  {
   "attachments": {},
   "cell_type": "markdown",
   "metadata": {},
   "source": [
    "# Linear fitting of pairwise proteome comparisons\n",
    "\n",
    "Following Keren et al., MSB 2013, we perform robust linear regression of protein levels between pairs of *E. coli* growth conditions (quantitative proteomics from Schmidt et al. Nature Biotech. 2016). The regression slope is correlated to the ratio of growth rates between the conditions, with deviations from 1:1 at low and high ratios. "
   ]
  },
  {
   "cell_type": "code",
   "execution_count": 2,
   "metadata": {},
   "outputs": [
    {
     "data": {
      "text/html": [
       "<div>\n",
       "<style scoped>\n",
       "    .dataframe tbody tr th:only-of-type {\n",
       "        vertical-align: middle;\n",
       "    }\n",
       "\n",
       "    .dataframe tbody tr th {\n",
       "        vertical-align: top;\n",
       "    }\n",
       "\n",
       "    .dataframe thead th {\n",
       "        text-align: right;\n",
       "    }\n",
       "</style>\n",
       "<table border=\"1\" class=\"dataframe\">\n",
       "  <thead>\n",
       "    <tr style=\"text-align: right;\">\n",
       "      <th></th>\n",
       "      <th>gene_name</th>\n",
       "      <th>gene_product</th>\n",
       "      <th>mw_fg</th>\n",
       "      <th>go_terms</th>\n",
       "      <th>cog_class</th>\n",
       "      <th>cog_letter</th>\n",
       "      <th>cog_category</th>\n",
       "      <th>cog_desc</th>\n",
       "    </tr>\n",
       "    <tr>\n",
       "      <th>b_number</th>\n",
       "      <th></th>\n",
       "      <th></th>\n",
       "      <th></th>\n",
       "      <th></th>\n",
       "      <th></th>\n",
       "      <th></th>\n",
       "      <th></th>\n",
       "      <th></th>\n",
       "    </tr>\n",
       "  </thead>\n",
       "  <tbody>\n",
       "    <tr>\n",
       "      <th>b4759</th>\n",
       "      <td>3'etsleuz</td>\n",
       "      <td>3'ETSleuZ</td>\n",
       "      <td>NaN</td>\n",
       "      <td>GO:0003723; GO:1904572</td>\n",
       "      <td>Not Assigned</td>\n",
       "      <td>Not Assigned</td>\n",
       "      <td>Not Assigned</td>\n",
       "      <td>Not Assigned</td>\n",
       "    </tr>\n",
       "    <tr>\n",
       "      <th>NaN</th>\n",
       "      <td>c0067</td>\n",
       "      <td>NaN</td>\n",
       "      <td>NaN</td>\n",
       "      <td>no ontology</td>\n",
       "      <td>NaN</td>\n",
       "      <td>NaN</td>\n",
       "      <td>NaN</td>\n",
       "      <td>NaN</td>\n",
       "    </tr>\n",
       "    <tr>\n",
       "      <th>NaN</th>\n",
       "      <td>c0293</td>\n",
       "      <td>NaN</td>\n",
       "      <td>NaN</td>\n",
       "      <td>no ontology</td>\n",
       "      <td>NaN</td>\n",
       "      <td>NaN</td>\n",
       "      <td>NaN</td>\n",
       "      <td>NaN</td>\n",
       "    </tr>\n",
       "    <tr>\n",
       "      <th>NaN</th>\n",
       "      <td>c0299</td>\n",
       "      <td>NaN</td>\n",
       "      <td>NaN</td>\n",
       "      <td>no ontology</td>\n",
       "      <td>NaN</td>\n",
       "      <td>NaN</td>\n",
       "      <td>NaN</td>\n",
       "      <td>NaN</td>\n",
       "    </tr>\n",
       "    <tr>\n",
       "      <th>NaN</th>\n",
       "      <td>c0362</td>\n",
       "      <td>NaN</td>\n",
       "      <td>NaN</td>\n",
       "      <td>no ontology</td>\n",
       "      <td>NaN</td>\n",
       "      <td>NaN</td>\n",
       "      <td>NaN</td>\n",
       "      <td>NaN</td>\n",
       "    </tr>\n",
       "  </tbody>\n",
       "</table>\n",
       "</div>"
      ],
      "text/plain": [
       "          gene_name gene_product  mw_fg                go_terms     cog_class  \\\n",
       "b_number                                                                        \n",
       "b4759     3'etsleuz    3'ETSleuZ    NaN  GO:0003723; GO:1904572  Not Assigned   \n",
       "NaN           c0067          NaN    NaN             no ontology           NaN   \n",
       "NaN           c0293          NaN    NaN             no ontology           NaN   \n",
       "NaN           c0299          NaN    NaN             no ontology           NaN   \n",
       "NaN           c0362          NaN    NaN             no ontology           NaN   \n",
       "\n",
       "            cog_letter  cog_category      cog_desc  \n",
       "b_number                                            \n",
       "b4759     Not Assigned  Not Assigned  Not Assigned  \n",
       "NaN                NaN           NaN           NaN  \n",
       "NaN                NaN           NaN           NaN  \n",
       "NaN                NaN           NaN           NaN  \n",
       "NaN                NaN           NaN           NaN  "
      ]
     },
     "execution_count": 2,
     "metadata": {},
     "output_type": "execute_result"
    }
   ],
   "source": [
    "raw_abund_df = pd.read_csv('../data/Chure_compiled_absolute_measurements.csv', index_col=0).reset_index().set_index('b_number')\n",
    "gene_metadata_df = pd.read_csv('../data/ecoli_genelist_master.csv', index_col=1)\n",
    "\n",
    "gene_metadata_df.head()"
   ]
  },
  {
   "cell_type": "code",
   "execution_count": 3,
   "metadata": {},
   "outputs": [],
   "source": [
    "# Take the mean of replicates for the same gene. \n",
    "# Note 1: have to do this because the collated dataset we are using from\n",
    "# Belliveau & Chure, Cell Systems 2021 didn't report which measurement is from which replicate.\n",
    "# Note 2: the Schmidt data is already aggregated across two measurement methods.\n",
    "# NB: Assuming same dataset, strain, cond, gene and growth rate implies replicate. \n",
    "counts = raw_abund_df.reset_index().groupby('dataset,strain,condition,b_number,growth_rate_hr'.split(',')).mean()\n",
    "# renaming tot_per_cell for clarity and to match how we treat other datasets\n",
    "abund_df = counts.reset_index().set_index('b_number').rename(\n",
    "    columns=dict(tot_per_cell='copies_per_cell'))\n",
    "\n",
    "# For calculating the relative mass contribution, we need to know the total.\n",
    "total_mass_per_cond = abund_df.groupby('dataset,condition'.split(',')).agg(dict(fg_per_cell='sum'))\n",
    "total_mass_per_cond.rename(dict(fg_per_cell='total_mass_fg'), axis=1, inplace=True)\n",
    "\n",
    "# Merge this back into the abund_df\n",
    "abund_df = abund_df.reset_index().set_index(\n",
    "    'dataset,condition'.split(',')).merge(\n",
    "        total_mass_per_cond, left_index=True,\n",
    "        right_index=True).reset_index().set_index('b_number')\n",
    "\n",
    "# Calculate the relative mass contribution of each gene to the total.\n",
    "abund_df['mass_fraction'] = abund_df.fg_per_cell / abund_df.total_mass_fg\n",
    "\n",
    "# Save the abund_df\n",
    "abund_df.to_csv('../data/Chure_mean_abundance_measurements.csv')\n",
    "\n",
    "# Get the Schmidt et al. 2016 data specifically and save it.\n",
    "schmidt_data = abund_df[abund_df.dataset == 'schmidt_2016']\n",
    "schmidt_data.to_csv('../data/schmidt_2016_mean_abundance_measurements.csv') "
   ]
  },
  {
   "cell_type": "code",
   "execution_count": 4,
   "metadata": {},
   "outputs": [],
   "source": [
    "# Conditions of interest -- single carbon sources in batch\n",
    "conds = ['fructose', 'fumarate', 'galactose',\n",
    "         'glucosamine', 'glucose', 'glycerol',\n",
    "         'mannose', 'pyruvate', 'succinate', 'xylose']\n",
    "\n",
    "# Get the growth rates for each condition\n",
    "lambdas = abund_df.groupby('dataset,condition'.split(',')).growth_rate_hr.first()\n",
    "cond_lambdas = lambdas.loc['schmidt_2016', conds].reset_index().drop('dataset', axis=1).set_index('condition')"
   ]
  },
  {
   "cell_type": "code",
   "execution_count": 5,
   "metadata": {},
   "outputs": [],
   "source": [
    "mask = np.logical_and(\n",
    "    abund_df.condition.isin('glucose,glycerol'.split(',')),\n",
    "    abund_df.dataset == 'schmidt_2016')\n",
    "two_conds = abund_df[mask].reset_index().pivot(\n",
    "    index='b_number', columns='condition', values='copies_per_cell')"
   ]
  },
  {
   "cell_type": "code",
   "execution_count": 6,
   "metadata": {},
   "outputs": [
    {
     "name": "stdout",
     "output_type": "stream",
     "text": [
      "fructose fumarate\n"
     ]
    },
    {
     "name": "stderr",
     "output_type": "stream",
     "text": [
      "/opt/miniconda3/lib/python3.8/site-packages/sklearn/utils/validation.py:1143: DataConversionWarning: A column-vector y was passed when a 1d array was expected. Please change the shape of y to (n_samples, ), for example using ravel().\n",
      "  y = column_or_1d(y, warn=True)\n"
     ]
    },
    {
     "name": "stdout",
     "output_type": "stream",
     "text": [
      "fructose galactose\n"
     ]
    },
    {
     "name": "stderr",
     "output_type": "stream",
     "text": [
      "/opt/miniconda3/lib/python3.8/site-packages/sklearn/utils/validation.py:1143: DataConversionWarning: A column-vector y was passed when a 1d array was expected. Please change the shape of y to (n_samples, ), for example using ravel().\n",
      "  y = column_or_1d(y, warn=True)\n"
     ]
    },
    {
     "name": "stdout",
     "output_type": "stream",
     "text": [
      "fructose glucosamine\n"
     ]
    },
    {
     "name": "stderr",
     "output_type": "stream",
     "text": [
      "/opt/miniconda3/lib/python3.8/site-packages/sklearn/utils/validation.py:1143: DataConversionWarning: A column-vector y was passed when a 1d array was expected. Please change the shape of y to (n_samples, ), for example using ravel().\n",
      "  y = column_or_1d(y, warn=True)\n"
     ]
    },
    {
     "name": "stdout",
     "output_type": "stream",
     "text": [
      "fructose glucose\n"
     ]
    },
    {
     "name": "stderr",
     "output_type": "stream",
     "text": [
      "/opt/miniconda3/lib/python3.8/site-packages/sklearn/utils/validation.py:1143: DataConversionWarning: A column-vector y was passed when a 1d array was expected. Please change the shape of y to (n_samples, ), for example using ravel().\n",
      "  y = column_or_1d(y, warn=True)\n"
     ]
    },
    {
     "name": "stdout",
     "output_type": "stream",
     "text": [
      "fructose glycerol\n"
     ]
    },
    {
     "name": "stderr",
     "output_type": "stream",
     "text": [
      "/opt/miniconda3/lib/python3.8/site-packages/sklearn/utils/validation.py:1143: DataConversionWarning: A column-vector y was passed when a 1d array was expected. Please change the shape of y to (n_samples, ), for example using ravel().\n",
      "  y = column_or_1d(y, warn=True)\n"
     ]
    },
    {
     "name": "stdout",
     "output_type": "stream",
     "text": [
      "fructose mannose\n"
     ]
    },
    {
     "name": "stderr",
     "output_type": "stream",
     "text": [
      "/opt/miniconda3/lib/python3.8/site-packages/sklearn/utils/validation.py:1143: DataConversionWarning: A column-vector y was passed when a 1d array was expected. Please change the shape of y to (n_samples, ), for example using ravel().\n",
      "  y = column_or_1d(y, warn=True)\n"
     ]
    },
    {
     "name": "stdout",
     "output_type": "stream",
     "text": [
      "fructose pyruvate\n"
     ]
    },
    {
     "name": "stderr",
     "output_type": "stream",
     "text": [
      "/opt/miniconda3/lib/python3.8/site-packages/sklearn/utils/validation.py:1143: DataConversionWarning: A column-vector y was passed when a 1d array was expected. Please change the shape of y to (n_samples, ), for example using ravel().\n",
      "  y = column_or_1d(y, warn=True)\n"
     ]
    },
    {
     "name": "stdout",
     "output_type": "stream",
     "text": [
      "fructose succinate\n"
     ]
    },
    {
     "name": "stderr",
     "output_type": "stream",
     "text": [
      "/opt/miniconda3/lib/python3.8/site-packages/sklearn/utils/validation.py:1143: DataConversionWarning: A column-vector y was passed when a 1d array was expected. Please change the shape of y to (n_samples, ), for example using ravel().\n",
      "  y = column_or_1d(y, warn=True)\n"
     ]
    },
    {
     "name": "stdout",
     "output_type": "stream",
     "text": [
      "fructose xylose\n"
     ]
    },
    {
     "name": "stderr",
     "output_type": "stream",
     "text": [
      "/opt/miniconda3/lib/python3.8/site-packages/sklearn/utils/validation.py:1143: DataConversionWarning: A column-vector y was passed when a 1d array was expected. Please change the shape of y to (n_samples, ), for example using ravel().\n",
      "  y = column_or_1d(y, warn=True)\n"
     ]
    },
    {
     "name": "stdout",
     "output_type": "stream",
     "text": [
      "fumarate fructose\n"
     ]
    },
    {
     "name": "stderr",
     "output_type": "stream",
     "text": [
      "/opt/miniconda3/lib/python3.8/site-packages/sklearn/utils/validation.py:1143: DataConversionWarning: A column-vector y was passed when a 1d array was expected. Please change the shape of y to (n_samples, ), for example using ravel().\n",
      "  y = column_or_1d(y, warn=True)\n"
     ]
    },
    {
     "name": "stdout",
     "output_type": "stream",
     "text": [
      "fumarate galactose\n"
     ]
    },
    {
     "name": "stderr",
     "output_type": "stream",
     "text": [
      "/opt/miniconda3/lib/python3.8/site-packages/sklearn/utils/validation.py:1143: DataConversionWarning: A column-vector y was passed when a 1d array was expected. Please change the shape of y to (n_samples, ), for example using ravel().\n",
      "  y = column_or_1d(y, warn=True)\n"
     ]
    },
    {
     "name": "stdout",
     "output_type": "stream",
     "text": [
      "fumarate glucosamine\n"
     ]
    },
    {
     "name": "stderr",
     "output_type": "stream",
     "text": [
      "/opt/miniconda3/lib/python3.8/site-packages/sklearn/utils/validation.py:1143: DataConversionWarning: A column-vector y was passed when a 1d array was expected. Please change the shape of y to (n_samples, ), for example using ravel().\n",
      "  y = column_or_1d(y, warn=True)\n"
     ]
    },
    {
     "name": "stdout",
     "output_type": "stream",
     "text": [
      "fumarate glucose\n"
     ]
    },
    {
     "name": "stderr",
     "output_type": "stream",
     "text": [
      "/opt/miniconda3/lib/python3.8/site-packages/sklearn/utils/validation.py:1143: DataConversionWarning: A column-vector y was passed when a 1d array was expected. Please change the shape of y to (n_samples, ), for example using ravel().\n",
      "  y = column_or_1d(y, warn=True)\n"
     ]
    },
    {
     "name": "stdout",
     "output_type": "stream",
     "text": [
      "fumarate glycerol\n"
     ]
    },
    {
     "name": "stderr",
     "output_type": "stream",
     "text": [
      "/opt/miniconda3/lib/python3.8/site-packages/sklearn/utils/validation.py:1143: DataConversionWarning: A column-vector y was passed when a 1d array was expected. Please change the shape of y to (n_samples, ), for example using ravel().\n",
      "  y = column_or_1d(y, warn=True)\n"
     ]
    },
    {
     "name": "stdout",
     "output_type": "stream",
     "text": [
      "fumarate mannose\n"
     ]
    },
    {
     "name": "stderr",
     "output_type": "stream",
     "text": [
      "/opt/miniconda3/lib/python3.8/site-packages/sklearn/utils/validation.py:1143: DataConversionWarning: A column-vector y was passed when a 1d array was expected. Please change the shape of y to (n_samples, ), for example using ravel().\n",
      "  y = column_or_1d(y, warn=True)\n"
     ]
    },
    {
     "name": "stdout",
     "output_type": "stream",
     "text": [
      "fumarate pyruvate\n"
     ]
    },
    {
     "name": "stderr",
     "output_type": "stream",
     "text": [
      "/opt/miniconda3/lib/python3.8/site-packages/sklearn/utils/validation.py:1143: DataConversionWarning: A column-vector y was passed when a 1d array was expected. Please change the shape of y to (n_samples, ), for example using ravel().\n",
      "  y = column_or_1d(y, warn=True)\n"
     ]
    },
    {
     "name": "stdout",
     "output_type": "stream",
     "text": [
      "fumarate succinate\n"
     ]
    },
    {
     "name": "stderr",
     "output_type": "stream",
     "text": [
      "/opt/miniconda3/lib/python3.8/site-packages/sklearn/utils/validation.py:1143: DataConversionWarning: A column-vector y was passed when a 1d array was expected. Please change the shape of y to (n_samples, ), for example using ravel().\n",
      "  y = column_or_1d(y, warn=True)\n"
     ]
    },
    {
     "name": "stdout",
     "output_type": "stream",
     "text": [
      "fumarate xylose\n"
     ]
    },
    {
     "name": "stderr",
     "output_type": "stream",
     "text": [
      "/opt/miniconda3/lib/python3.8/site-packages/sklearn/utils/validation.py:1143: DataConversionWarning: A column-vector y was passed when a 1d array was expected. Please change the shape of y to (n_samples, ), for example using ravel().\n",
      "  y = column_or_1d(y, warn=True)\n"
     ]
    },
    {
     "name": "stdout",
     "output_type": "stream",
     "text": [
      "galactose fructose\n"
     ]
    },
    {
     "name": "stderr",
     "output_type": "stream",
     "text": [
      "/opt/miniconda3/lib/python3.8/site-packages/sklearn/utils/validation.py:1143: DataConversionWarning: A column-vector y was passed when a 1d array was expected. Please change the shape of y to (n_samples, ), for example using ravel().\n",
      "  y = column_or_1d(y, warn=True)\n"
     ]
    },
    {
     "name": "stdout",
     "output_type": "stream",
     "text": [
      "galactose fumarate\n"
     ]
    },
    {
     "name": "stderr",
     "output_type": "stream",
     "text": [
      "/opt/miniconda3/lib/python3.8/site-packages/sklearn/utils/validation.py:1143: DataConversionWarning: A column-vector y was passed when a 1d array was expected. Please change the shape of y to (n_samples, ), for example using ravel().\n",
      "  y = column_or_1d(y, warn=True)\n"
     ]
    },
    {
     "name": "stdout",
     "output_type": "stream",
     "text": [
      "galactose glucosamine\n"
     ]
    },
    {
     "name": "stderr",
     "output_type": "stream",
     "text": [
      "/opt/miniconda3/lib/python3.8/site-packages/sklearn/utils/validation.py:1143: DataConversionWarning: A column-vector y was passed when a 1d array was expected. Please change the shape of y to (n_samples, ), for example using ravel().\n",
      "  y = column_or_1d(y, warn=True)\n"
     ]
    },
    {
     "name": "stdout",
     "output_type": "stream",
     "text": [
      "galactose glucose\n"
     ]
    },
    {
     "name": "stderr",
     "output_type": "stream",
     "text": [
      "/opt/miniconda3/lib/python3.8/site-packages/sklearn/utils/validation.py:1143: DataConversionWarning: A column-vector y was passed when a 1d array was expected. Please change the shape of y to (n_samples, ), for example using ravel().\n",
      "  y = column_or_1d(y, warn=True)\n"
     ]
    },
    {
     "name": "stdout",
     "output_type": "stream",
     "text": [
      "galactose glycerol\n"
     ]
    },
    {
     "name": "stderr",
     "output_type": "stream",
     "text": [
      "/opt/miniconda3/lib/python3.8/site-packages/sklearn/utils/validation.py:1143: DataConversionWarning: A column-vector y was passed when a 1d array was expected. Please change the shape of y to (n_samples, ), for example using ravel().\n",
      "  y = column_or_1d(y, warn=True)\n"
     ]
    },
    {
     "name": "stdout",
     "output_type": "stream",
     "text": [
      "galactose mannose\n"
     ]
    },
    {
     "name": "stderr",
     "output_type": "stream",
     "text": [
      "/opt/miniconda3/lib/python3.8/site-packages/sklearn/utils/validation.py:1143: DataConversionWarning: A column-vector y was passed when a 1d array was expected. Please change the shape of y to (n_samples, ), for example using ravel().\n",
      "  y = column_or_1d(y, warn=True)\n"
     ]
    },
    {
     "name": "stdout",
     "output_type": "stream",
     "text": [
      "galactose pyruvate\n"
     ]
    },
    {
     "name": "stderr",
     "output_type": "stream",
     "text": [
      "/opt/miniconda3/lib/python3.8/site-packages/sklearn/utils/validation.py:1143: DataConversionWarning: A column-vector y was passed when a 1d array was expected. Please change the shape of y to (n_samples, ), for example using ravel().\n",
      "  y = column_or_1d(y, warn=True)\n"
     ]
    },
    {
     "name": "stdout",
     "output_type": "stream",
     "text": [
      "galactose succinate\n"
     ]
    },
    {
     "name": "stderr",
     "output_type": "stream",
     "text": [
      "/opt/miniconda3/lib/python3.8/site-packages/sklearn/utils/validation.py:1143: DataConversionWarning: A column-vector y was passed when a 1d array was expected. Please change the shape of y to (n_samples, ), for example using ravel().\n",
      "  y = column_or_1d(y, warn=True)\n"
     ]
    },
    {
     "name": "stdout",
     "output_type": "stream",
     "text": [
      "galactose xylose\n"
     ]
    },
    {
     "name": "stderr",
     "output_type": "stream",
     "text": [
      "/opt/miniconda3/lib/python3.8/site-packages/sklearn/utils/validation.py:1143: DataConversionWarning: A column-vector y was passed when a 1d array was expected. Please change the shape of y to (n_samples, ), for example using ravel().\n",
      "  y = column_or_1d(y, warn=True)\n"
     ]
    },
    {
     "name": "stdout",
     "output_type": "stream",
     "text": [
      "glucosamine fructose\n"
     ]
    },
    {
     "name": "stderr",
     "output_type": "stream",
     "text": [
      "/opt/miniconda3/lib/python3.8/site-packages/sklearn/utils/validation.py:1143: DataConversionWarning: A column-vector y was passed when a 1d array was expected. Please change the shape of y to (n_samples, ), for example using ravel().\n",
      "  y = column_or_1d(y, warn=True)\n"
     ]
    },
    {
     "name": "stdout",
     "output_type": "stream",
     "text": [
      "glucosamine fumarate\n"
     ]
    },
    {
     "name": "stderr",
     "output_type": "stream",
     "text": [
      "/opt/miniconda3/lib/python3.8/site-packages/sklearn/utils/validation.py:1143: DataConversionWarning: A column-vector y was passed when a 1d array was expected. Please change the shape of y to (n_samples, ), for example using ravel().\n",
      "  y = column_or_1d(y, warn=True)\n"
     ]
    },
    {
     "name": "stdout",
     "output_type": "stream",
     "text": [
      "glucosamine galactose\n"
     ]
    },
    {
     "name": "stderr",
     "output_type": "stream",
     "text": [
      "/opt/miniconda3/lib/python3.8/site-packages/sklearn/utils/validation.py:1143: DataConversionWarning: A column-vector y was passed when a 1d array was expected. Please change the shape of y to (n_samples, ), for example using ravel().\n",
      "  y = column_or_1d(y, warn=True)\n"
     ]
    },
    {
     "name": "stdout",
     "output_type": "stream",
     "text": [
      "glucosamine glucose\n"
     ]
    },
    {
     "name": "stderr",
     "output_type": "stream",
     "text": [
      "/opt/miniconda3/lib/python3.8/site-packages/sklearn/utils/validation.py:1143: DataConversionWarning: A column-vector y was passed when a 1d array was expected. Please change the shape of y to (n_samples, ), for example using ravel().\n",
      "  y = column_or_1d(y, warn=True)\n"
     ]
    },
    {
     "name": "stdout",
     "output_type": "stream",
     "text": [
      "glucosamine glycerol\n"
     ]
    },
    {
     "name": "stderr",
     "output_type": "stream",
     "text": [
      "/opt/miniconda3/lib/python3.8/site-packages/sklearn/utils/validation.py:1143: DataConversionWarning: A column-vector y was passed when a 1d array was expected. Please change the shape of y to (n_samples, ), for example using ravel().\n",
      "  y = column_or_1d(y, warn=True)\n"
     ]
    },
    {
     "name": "stdout",
     "output_type": "stream",
     "text": [
      "glucosamine mannose\n"
     ]
    },
    {
     "name": "stderr",
     "output_type": "stream",
     "text": [
      "/opt/miniconda3/lib/python3.8/site-packages/sklearn/utils/validation.py:1143: DataConversionWarning: A column-vector y was passed when a 1d array was expected. Please change the shape of y to (n_samples, ), for example using ravel().\n",
      "  y = column_or_1d(y, warn=True)\n"
     ]
    },
    {
     "name": "stdout",
     "output_type": "stream",
     "text": [
      "glucosamine pyruvate\n"
     ]
    },
    {
     "name": "stderr",
     "output_type": "stream",
     "text": [
      "/opt/miniconda3/lib/python3.8/site-packages/sklearn/utils/validation.py:1143: DataConversionWarning: A column-vector y was passed when a 1d array was expected. Please change the shape of y to (n_samples, ), for example using ravel().\n",
      "  y = column_or_1d(y, warn=True)\n"
     ]
    },
    {
     "name": "stdout",
     "output_type": "stream",
     "text": [
      "glucosamine succinate\n"
     ]
    },
    {
     "name": "stderr",
     "output_type": "stream",
     "text": [
      "/opt/miniconda3/lib/python3.8/site-packages/sklearn/utils/validation.py:1143: DataConversionWarning: A column-vector y was passed when a 1d array was expected. Please change the shape of y to (n_samples, ), for example using ravel().\n",
      "  y = column_or_1d(y, warn=True)\n"
     ]
    },
    {
     "name": "stdout",
     "output_type": "stream",
     "text": [
      "glucosamine xylose\n"
     ]
    },
    {
     "name": "stderr",
     "output_type": "stream",
     "text": [
      "/opt/miniconda3/lib/python3.8/site-packages/sklearn/utils/validation.py:1143: DataConversionWarning: A column-vector y was passed when a 1d array was expected. Please change the shape of y to (n_samples, ), for example using ravel().\n",
      "  y = column_or_1d(y, warn=True)\n"
     ]
    },
    {
     "name": "stdout",
     "output_type": "stream",
     "text": [
      "glucose fructose\n"
     ]
    },
    {
     "name": "stderr",
     "output_type": "stream",
     "text": [
      "/opt/miniconda3/lib/python3.8/site-packages/sklearn/utils/validation.py:1143: DataConversionWarning: A column-vector y was passed when a 1d array was expected. Please change the shape of y to (n_samples, ), for example using ravel().\n",
      "  y = column_or_1d(y, warn=True)\n"
     ]
    },
    {
     "name": "stdout",
     "output_type": "stream",
     "text": [
      "glucose fumarate\n"
     ]
    },
    {
     "name": "stderr",
     "output_type": "stream",
     "text": [
      "/opt/miniconda3/lib/python3.8/site-packages/sklearn/utils/validation.py:1143: DataConversionWarning: A column-vector y was passed when a 1d array was expected. Please change the shape of y to (n_samples, ), for example using ravel().\n",
      "  y = column_or_1d(y, warn=True)\n"
     ]
    },
    {
     "name": "stdout",
     "output_type": "stream",
     "text": [
      "glucose galactose\n"
     ]
    },
    {
     "name": "stderr",
     "output_type": "stream",
     "text": [
      "/opt/miniconda3/lib/python3.8/site-packages/sklearn/utils/validation.py:1143: DataConversionWarning: A column-vector y was passed when a 1d array was expected. Please change the shape of y to (n_samples, ), for example using ravel().\n",
      "  y = column_or_1d(y, warn=True)\n"
     ]
    },
    {
     "name": "stdout",
     "output_type": "stream",
     "text": [
      "glucose glucosamine\n"
     ]
    },
    {
     "name": "stderr",
     "output_type": "stream",
     "text": [
      "/opt/miniconda3/lib/python3.8/site-packages/sklearn/utils/validation.py:1143: DataConversionWarning: A column-vector y was passed when a 1d array was expected. Please change the shape of y to (n_samples, ), for example using ravel().\n",
      "  y = column_or_1d(y, warn=True)\n"
     ]
    },
    {
     "name": "stdout",
     "output_type": "stream",
     "text": [
      "glucose glycerol\n"
     ]
    },
    {
     "name": "stderr",
     "output_type": "stream",
     "text": [
      "/opt/miniconda3/lib/python3.8/site-packages/sklearn/utils/validation.py:1143: DataConversionWarning: A column-vector y was passed when a 1d array was expected. Please change the shape of y to (n_samples, ), for example using ravel().\n",
      "  y = column_or_1d(y, warn=True)\n"
     ]
    },
    {
     "name": "stdout",
     "output_type": "stream",
     "text": [
      "glucose mannose\n"
     ]
    },
    {
     "name": "stderr",
     "output_type": "stream",
     "text": [
      "/opt/miniconda3/lib/python3.8/site-packages/sklearn/utils/validation.py:1143: DataConversionWarning: A column-vector y was passed when a 1d array was expected. Please change the shape of y to (n_samples, ), for example using ravel().\n",
      "  y = column_or_1d(y, warn=True)\n"
     ]
    },
    {
     "name": "stdout",
     "output_type": "stream",
     "text": [
      "glucose pyruvate\n"
     ]
    },
    {
     "name": "stderr",
     "output_type": "stream",
     "text": [
      "/opt/miniconda3/lib/python3.8/site-packages/sklearn/utils/validation.py:1143: DataConversionWarning: A column-vector y was passed when a 1d array was expected. Please change the shape of y to (n_samples, ), for example using ravel().\n",
      "  y = column_or_1d(y, warn=True)\n"
     ]
    },
    {
     "name": "stdout",
     "output_type": "stream",
     "text": [
      "glucose succinate\n"
     ]
    },
    {
     "name": "stderr",
     "output_type": "stream",
     "text": [
      "/opt/miniconda3/lib/python3.8/site-packages/sklearn/utils/validation.py:1143: DataConversionWarning: A column-vector y was passed when a 1d array was expected. Please change the shape of y to (n_samples, ), for example using ravel().\n",
      "  y = column_or_1d(y, warn=True)\n"
     ]
    },
    {
     "name": "stdout",
     "output_type": "stream",
     "text": [
      "glucose xylose\n"
     ]
    },
    {
     "name": "stderr",
     "output_type": "stream",
     "text": [
      "/opt/miniconda3/lib/python3.8/site-packages/sklearn/utils/validation.py:1143: DataConversionWarning: A column-vector y was passed when a 1d array was expected. Please change the shape of y to (n_samples, ), for example using ravel().\n",
      "  y = column_or_1d(y, warn=True)\n"
     ]
    },
    {
     "name": "stdout",
     "output_type": "stream",
     "text": [
      "glycerol fructose\n"
     ]
    },
    {
     "name": "stderr",
     "output_type": "stream",
     "text": [
      "/opt/miniconda3/lib/python3.8/site-packages/sklearn/utils/validation.py:1143: DataConversionWarning: A column-vector y was passed when a 1d array was expected. Please change the shape of y to (n_samples, ), for example using ravel().\n",
      "  y = column_or_1d(y, warn=True)\n"
     ]
    },
    {
     "name": "stdout",
     "output_type": "stream",
     "text": [
      "glycerol fumarate\n"
     ]
    },
    {
     "name": "stderr",
     "output_type": "stream",
     "text": [
      "/opt/miniconda3/lib/python3.8/site-packages/sklearn/utils/validation.py:1143: DataConversionWarning: A column-vector y was passed when a 1d array was expected. Please change the shape of y to (n_samples, ), for example using ravel().\n",
      "  y = column_or_1d(y, warn=True)\n"
     ]
    },
    {
     "name": "stdout",
     "output_type": "stream",
     "text": [
      "glycerol galactose\n"
     ]
    },
    {
     "name": "stderr",
     "output_type": "stream",
     "text": [
      "/opt/miniconda3/lib/python3.8/site-packages/sklearn/utils/validation.py:1143: DataConversionWarning: A column-vector y was passed when a 1d array was expected. Please change the shape of y to (n_samples, ), for example using ravel().\n",
      "  y = column_or_1d(y, warn=True)\n"
     ]
    },
    {
     "name": "stdout",
     "output_type": "stream",
     "text": [
      "glycerol glucosamine\n"
     ]
    },
    {
     "name": "stderr",
     "output_type": "stream",
     "text": [
      "/opt/miniconda3/lib/python3.8/site-packages/sklearn/utils/validation.py:1143: DataConversionWarning: A column-vector y was passed when a 1d array was expected. Please change the shape of y to (n_samples, ), for example using ravel().\n",
      "  y = column_or_1d(y, warn=True)\n"
     ]
    },
    {
     "name": "stdout",
     "output_type": "stream",
     "text": [
      "glycerol glucose\n"
     ]
    },
    {
     "name": "stderr",
     "output_type": "stream",
     "text": [
      "/opt/miniconda3/lib/python3.8/site-packages/sklearn/utils/validation.py:1143: DataConversionWarning: A column-vector y was passed when a 1d array was expected. Please change the shape of y to (n_samples, ), for example using ravel().\n",
      "  y = column_or_1d(y, warn=True)\n"
     ]
    },
    {
     "name": "stdout",
     "output_type": "stream",
     "text": [
      "glycerol mannose\n"
     ]
    },
    {
     "name": "stderr",
     "output_type": "stream",
     "text": [
      "/opt/miniconda3/lib/python3.8/site-packages/sklearn/utils/validation.py:1143: DataConversionWarning: A column-vector y was passed when a 1d array was expected. Please change the shape of y to (n_samples, ), for example using ravel().\n",
      "  y = column_or_1d(y, warn=True)\n"
     ]
    },
    {
     "name": "stdout",
     "output_type": "stream",
     "text": [
      "glycerol pyruvate\n"
     ]
    },
    {
     "name": "stderr",
     "output_type": "stream",
     "text": [
      "/opt/miniconda3/lib/python3.8/site-packages/sklearn/utils/validation.py:1143: DataConversionWarning: A column-vector y was passed when a 1d array was expected. Please change the shape of y to (n_samples, ), for example using ravel().\n",
      "  y = column_or_1d(y, warn=True)\n"
     ]
    },
    {
     "name": "stdout",
     "output_type": "stream",
     "text": [
      "glycerol succinate\n"
     ]
    },
    {
     "name": "stderr",
     "output_type": "stream",
     "text": [
      "/opt/miniconda3/lib/python3.8/site-packages/sklearn/utils/validation.py:1143: DataConversionWarning: A column-vector y was passed when a 1d array was expected. Please change the shape of y to (n_samples, ), for example using ravel().\n",
      "  y = column_or_1d(y, warn=True)\n"
     ]
    },
    {
     "name": "stdout",
     "output_type": "stream",
     "text": [
      "glycerol xylose\n"
     ]
    },
    {
     "name": "stderr",
     "output_type": "stream",
     "text": [
      "/opt/miniconda3/lib/python3.8/site-packages/sklearn/utils/validation.py:1143: DataConversionWarning: A column-vector y was passed when a 1d array was expected. Please change the shape of y to (n_samples, ), for example using ravel().\n",
      "  y = column_or_1d(y, warn=True)\n"
     ]
    },
    {
     "name": "stdout",
     "output_type": "stream",
     "text": [
      "mannose fructose\n"
     ]
    },
    {
     "name": "stderr",
     "output_type": "stream",
     "text": [
      "/opt/miniconda3/lib/python3.8/site-packages/sklearn/utils/validation.py:1143: DataConversionWarning: A column-vector y was passed when a 1d array was expected. Please change the shape of y to (n_samples, ), for example using ravel().\n",
      "  y = column_or_1d(y, warn=True)\n"
     ]
    },
    {
     "name": "stdout",
     "output_type": "stream",
     "text": [
      "mannose fumarate\n"
     ]
    },
    {
     "name": "stderr",
     "output_type": "stream",
     "text": [
      "/opt/miniconda3/lib/python3.8/site-packages/sklearn/utils/validation.py:1143: DataConversionWarning: A column-vector y was passed when a 1d array was expected. Please change the shape of y to (n_samples, ), for example using ravel().\n",
      "  y = column_or_1d(y, warn=True)\n"
     ]
    },
    {
     "name": "stdout",
     "output_type": "stream",
     "text": [
      "mannose galactose\n"
     ]
    },
    {
     "name": "stderr",
     "output_type": "stream",
     "text": [
      "/opt/miniconda3/lib/python3.8/site-packages/sklearn/utils/validation.py:1143: DataConversionWarning: A column-vector y was passed when a 1d array was expected. Please change the shape of y to (n_samples, ), for example using ravel().\n",
      "  y = column_or_1d(y, warn=True)\n"
     ]
    },
    {
     "name": "stdout",
     "output_type": "stream",
     "text": [
      "mannose glucosamine\n"
     ]
    },
    {
     "name": "stderr",
     "output_type": "stream",
     "text": [
      "/opt/miniconda3/lib/python3.8/site-packages/sklearn/utils/validation.py:1143: DataConversionWarning: A column-vector y was passed when a 1d array was expected. Please change the shape of y to (n_samples, ), for example using ravel().\n",
      "  y = column_or_1d(y, warn=True)\n"
     ]
    },
    {
     "name": "stdout",
     "output_type": "stream",
     "text": [
      "mannose glucose\n"
     ]
    },
    {
     "name": "stderr",
     "output_type": "stream",
     "text": [
      "/opt/miniconda3/lib/python3.8/site-packages/sklearn/utils/validation.py:1143: DataConversionWarning: A column-vector y was passed when a 1d array was expected. Please change the shape of y to (n_samples, ), for example using ravel().\n",
      "  y = column_or_1d(y, warn=True)\n"
     ]
    },
    {
     "name": "stdout",
     "output_type": "stream",
     "text": [
      "mannose glycerol\n"
     ]
    },
    {
     "name": "stderr",
     "output_type": "stream",
     "text": [
      "/opt/miniconda3/lib/python3.8/site-packages/sklearn/utils/validation.py:1143: DataConversionWarning: A column-vector y was passed when a 1d array was expected. Please change the shape of y to (n_samples, ), for example using ravel().\n",
      "  y = column_or_1d(y, warn=True)\n"
     ]
    },
    {
     "name": "stdout",
     "output_type": "stream",
     "text": [
      "mannose pyruvate\n"
     ]
    },
    {
     "name": "stderr",
     "output_type": "stream",
     "text": [
      "/opt/miniconda3/lib/python3.8/site-packages/sklearn/utils/validation.py:1143: DataConversionWarning: A column-vector y was passed when a 1d array was expected. Please change the shape of y to (n_samples, ), for example using ravel().\n",
      "  y = column_or_1d(y, warn=True)\n"
     ]
    },
    {
     "name": "stdout",
     "output_type": "stream",
     "text": [
      "mannose succinate\n"
     ]
    },
    {
     "name": "stderr",
     "output_type": "stream",
     "text": [
      "/opt/miniconda3/lib/python3.8/site-packages/sklearn/utils/validation.py:1143: DataConversionWarning: A column-vector y was passed when a 1d array was expected. Please change the shape of y to (n_samples, ), for example using ravel().\n",
      "  y = column_or_1d(y, warn=True)\n"
     ]
    },
    {
     "name": "stdout",
     "output_type": "stream",
     "text": [
      "mannose xylose\n"
     ]
    },
    {
     "name": "stderr",
     "output_type": "stream",
     "text": [
      "/opt/miniconda3/lib/python3.8/site-packages/sklearn/utils/validation.py:1143: DataConversionWarning: A column-vector y was passed when a 1d array was expected. Please change the shape of y to (n_samples, ), for example using ravel().\n",
      "  y = column_or_1d(y, warn=True)\n"
     ]
    },
    {
     "name": "stdout",
     "output_type": "stream",
     "text": [
      "pyruvate fructose\n"
     ]
    },
    {
     "name": "stderr",
     "output_type": "stream",
     "text": [
      "/opt/miniconda3/lib/python3.8/site-packages/sklearn/utils/validation.py:1143: DataConversionWarning: A column-vector y was passed when a 1d array was expected. Please change the shape of y to (n_samples, ), for example using ravel().\n",
      "  y = column_or_1d(y, warn=True)\n"
     ]
    },
    {
     "name": "stdout",
     "output_type": "stream",
     "text": [
      "pyruvate fumarate\n"
     ]
    },
    {
     "name": "stderr",
     "output_type": "stream",
     "text": [
      "/opt/miniconda3/lib/python3.8/site-packages/sklearn/utils/validation.py:1143: DataConversionWarning: A column-vector y was passed when a 1d array was expected. Please change the shape of y to (n_samples, ), for example using ravel().\n",
      "  y = column_or_1d(y, warn=True)\n"
     ]
    },
    {
     "name": "stdout",
     "output_type": "stream",
     "text": [
      "pyruvate galactose\n"
     ]
    },
    {
     "name": "stderr",
     "output_type": "stream",
     "text": [
      "/opt/miniconda3/lib/python3.8/site-packages/sklearn/utils/validation.py:1143: DataConversionWarning: A column-vector y was passed when a 1d array was expected. Please change the shape of y to (n_samples, ), for example using ravel().\n",
      "  y = column_or_1d(y, warn=True)\n"
     ]
    },
    {
     "name": "stdout",
     "output_type": "stream",
     "text": [
      "pyruvate glucosamine\n"
     ]
    },
    {
     "name": "stderr",
     "output_type": "stream",
     "text": [
      "/opt/miniconda3/lib/python3.8/site-packages/sklearn/utils/validation.py:1143: DataConversionWarning: A column-vector y was passed when a 1d array was expected. Please change the shape of y to (n_samples, ), for example using ravel().\n",
      "  y = column_or_1d(y, warn=True)\n"
     ]
    },
    {
     "name": "stdout",
     "output_type": "stream",
     "text": [
      "pyruvate glucose\n"
     ]
    },
    {
     "name": "stderr",
     "output_type": "stream",
     "text": [
      "/opt/miniconda3/lib/python3.8/site-packages/sklearn/utils/validation.py:1143: DataConversionWarning: A column-vector y was passed when a 1d array was expected. Please change the shape of y to (n_samples, ), for example using ravel().\n",
      "  y = column_or_1d(y, warn=True)\n"
     ]
    },
    {
     "name": "stdout",
     "output_type": "stream",
     "text": [
      "pyruvate glycerol\n"
     ]
    },
    {
     "name": "stderr",
     "output_type": "stream",
     "text": [
      "/opt/miniconda3/lib/python3.8/site-packages/sklearn/utils/validation.py:1143: DataConversionWarning: A column-vector y was passed when a 1d array was expected. Please change the shape of y to (n_samples, ), for example using ravel().\n",
      "  y = column_or_1d(y, warn=True)\n"
     ]
    },
    {
     "name": "stdout",
     "output_type": "stream",
     "text": [
      "pyruvate mannose\n"
     ]
    },
    {
     "name": "stderr",
     "output_type": "stream",
     "text": [
      "/opt/miniconda3/lib/python3.8/site-packages/sklearn/utils/validation.py:1143: DataConversionWarning: A column-vector y was passed when a 1d array was expected. Please change the shape of y to (n_samples, ), for example using ravel().\n",
      "  y = column_or_1d(y, warn=True)\n"
     ]
    },
    {
     "name": "stdout",
     "output_type": "stream",
     "text": [
      "pyruvate succinate\n"
     ]
    },
    {
     "name": "stderr",
     "output_type": "stream",
     "text": [
      "/opt/miniconda3/lib/python3.8/site-packages/sklearn/utils/validation.py:1143: DataConversionWarning: A column-vector y was passed when a 1d array was expected. Please change the shape of y to (n_samples, ), for example using ravel().\n",
      "  y = column_or_1d(y, warn=True)\n"
     ]
    },
    {
     "name": "stdout",
     "output_type": "stream",
     "text": [
      "pyruvate xylose\n"
     ]
    },
    {
     "name": "stderr",
     "output_type": "stream",
     "text": [
      "/opt/miniconda3/lib/python3.8/site-packages/sklearn/utils/validation.py:1143: DataConversionWarning: A column-vector y was passed when a 1d array was expected. Please change the shape of y to (n_samples, ), for example using ravel().\n",
      "  y = column_or_1d(y, warn=True)\n"
     ]
    },
    {
     "name": "stdout",
     "output_type": "stream",
     "text": [
      "succinate fructose\n"
     ]
    },
    {
     "name": "stderr",
     "output_type": "stream",
     "text": [
      "/opt/miniconda3/lib/python3.8/site-packages/sklearn/utils/validation.py:1143: DataConversionWarning: A column-vector y was passed when a 1d array was expected. Please change the shape of y to (n_samples, ), for example using ravel().\n",
      "  y = column_or_1d(y, warn=True)\n"
     ]
    },
    {
     "name": "stdout",
     "output_type": "stream",
     "text": [
      "succinate fumarate\n"
     ]
    },
    {
     "name": "stderr",
     "output_type": "stream",
     "text": [
      "/opt/miniconda3/lib/python3.8/site-packages/sklearn/utils/validation.py:1143: DataConversionWarning: A column-vector y was passed when a 1d array was expected. Please change the shape of y to (n_samples, ), for example using ravel().\n",
      "  y = column_or_1d(y, warn=True)\n"
     ]
    },
    {
     "name": "stdout",
     "output_type": "stream",
     "text": [
      "succinate galactose\n"
     ]
    },
    {
     "name": "stderr",
     "output_type": "stream",
     "text": [
      "/opt/miniconda3/lib/python3.8/site-packages/sklearn/utils/validation.py:1143: DataConversionWarning: A column-vector y was passed when a 1d array was expected. Please change the shape of y to (n_samples, ), for example using ravel().\n",
      "  y = column_or_1d(y, warn=True)\n"
     ]
    },
    {
     "name": "stdout",
     "output_type": "stream",
     "text": [
      "succinate glucosamine\n"
     ]
    },
    {
     "name": "stderr",
     "output_type": "stream",
     "text": [
      "/opt/miniconda3/lib/python3.8/site-packages/sklearn/utils/validation.py:1143: DataConversionWarning: A column-vector y was passed when a 1d array was expected. Please change the shape of y to (n_samples, ), for example using ravel().\n",
      "  y = column_or_1d(y, warn=True)\n"
     ]
    },
    {
     "name": "stdout",
     "output_type": "stream",
     "text": [
      "succinate glucose\n"
     ]
    },
    {
     "name": "stderr",
     "output_type": "stream",
     "text": [
      "/opt/miniconda3/lib/python3.8/site-packages/sklearn/utils/validation.py:1143: DataConversionWarning: A column-vector y was passed when a 1d array was expected. Please change the shape of y to (n_samples, ), for example using ravel().\n",
      "  y = column_or_1d(y, warn=True)\n"
     ]
    },
    {
     "name": "stdout",
     "output_type": "stream",
     "text": [
      "succinate glycerol\n"
     ]
    },
    {
     "name": "stderr",
     "output_type": "stream",
     "text": [
      "/opt/miniconda3/lib/python3.8/site-packages/sklearn/utils/validation.py:1143: DataConversionWarning: A column-vector y was passed when a 1d array was expected. Please change the shape of y to (n_samples, ), for example using ravel().\n",
      "  y = column_or_1d(y, warn=True)\n"
     ]
    },
    {
     "name": "stdout",
     "output_type": "stream",
     "text": [
      "succinate mannose\n"
     ]
    },
    {
     "name": "stderr",
     "output_type": "stream",
     "text": [
      "/opt/miniconda3/lib/python3.8/site-packages/sklearn/utils/validation.py:1143: DataConversionWarning: A column-vector y was passed when a 1d array was expected. Please change the shape of y to (n_samples, ), for example using ravel().\n",
      "  y = column_or_1d(y, warn=True)\n"
     ]
    },
    {
     "name": "stdout",
     "output_type": "stream",
     "text": [
      "succinate pyruvate\n"
     ]
    },
    {
     "name": "stderr",
     "output_type": "stream",
     "text": [
      "/opt/miniconda3/lib/python3.8/site-packages/sklearn/utils/validation.py:1143: DataConversionWarning: A column-vector y was passed when a 1d array was expected. Please change the shape of y to (n_samples, ), for example using ravel().\n",
      "  y = column_or_1d(y, warn=True)\n"
     ]
    },
    {
     "name": "stdout",
     "output_type": "stream",
     "text": [
      "succinate xylose\n"
     ]
    },
    {
     "name": "stderr",
     "output_type": "stream",
     "text": [
      "/opt/miniconda3/lib/python3.8/site-packages/sklearn/utils/validation.py:1143: DataConversionWarning: A column-vector y was passed when a 1d array was expected. Please change the shape of y to (n_samples, ), for example using ravel().\n",
      "  y = column_or_1d(y, warn=True)\n"
     ]
    },
    {
     "name": "stdout",
     "output_type": "stream",
     "text": [
      "xylose fructose\n"
     ]
    },
    {
     "name": "stderr",
     "output_type": "stream",
     "text": [
      "/opt/miniconda3/lib/python3.8/site-packages/sklearn/utils/validation.py:1143: DataConversionWarning: A column-vector y was passed when a 1d array was expected. Please change the shape of y to (n_samples, ), for example using ravel().\n",
      "  y = column_or_1d(y, warn=True)\n"
     ]
    },
    {
     "name": "stdout",
     "output_type": "stream",
     "text": [
      "xylose fumarate\n"
     ]
    },
    {
     "name": "stderr",
     "output_type": "stream",
     "text": [
      "/opt/miniconda3/lib/python3.8/site-packages/sklearn/utils/validation.py:1143: DataConversionWarning: A column-vector y was passed when a 1d array was expected. Please change the shape of y to (n_samples, ), for example using ravel().\n",
      "  y = column_or_1d(y, warn=True)\n"
     ]
    },
    {
     "name": "stdout",
     "output_type": "stream",
     "text": [
      "xylose galactose\n"
     ]
    },
    {
     "name": "stderr",
     "output_type": "stream",
     "text": [
      "/opt/miniconda3/lib/python3.8/site-packages/sklearn/utils/validation.py:1143: DataConversionWarning: A column-vector y was passed when a 1d array was expected. Please change the shape of y to (n_samples, ), for example using ravel().\n",
      "  y = column_or_1d(y, warn=True)\n"
     ]
    },
    {
     "name": "stdout",
     "output_type": "stream",
     "text": [
      "xylose glucosamine\n"
     ]
    },
    {
     "name": "stderr",
     "output_type": "stream",
     "text": [
      "/opt/miniconda3/lib/python3.8/site-packages/sklearn/utils/validation.py:1143: DataConversionWarning: A column-vector y was passed when a 1d array was expected. Please change the shape of y to (n_samples, ), for example using ravel().\n",
      "  y = column_or_1d(y, warn=True)\n"
     ]
    },
    {
     "name": "stdout",
     "output_type": "stream",
     "text": [
      "xylose glucose\n"
     ]
    },
    {
     "name": "stderr",
     "output_type": "stream",
     "text": [
      "/opt/miniconda3/lib/python3.8/site-packages/sklearn/utils/validation.py:1143: DataConversionWarning: A column-vector y was passed when a 1d array was expected. Please change the shape of y to (n_samples, ), for example using ravel().\n",
      "  y = column_or_1d(y, warn=True)\n"
     ]
    },
    {
     "name": "stdout",
     "output_type": "stream",
     "text": [
      "xylose glycerol\n"
     ]
    },
    {
     "name": "stderr",
     "output_type": "stream",
     "text": [
      "/opt/miniconda3/lib/python3.8/site-packages/sklearn/utils/validation.py:1143: DataConversionWarning: A column-vector y was passed when a 1d array was expected. Please change the shape of y to (n_samples, ), for example using ravel().\n",
      "  y = column_or_1d(y, warn=True)\n"
     ]
    },
    {
     "name": "stdout",
     "output_type": "stream",
     "text": [
      "xylose mannose\n"
     ]
    },
    {
     "name": "stderr",
     "output_type": "stream",
     "text": [
      "/opt/miniconda3/lib/python3.8/site-packages/sklearn/utils/validation.py:1143: DataConversionWarning: A column-vector y was passed when a 1d array was expected. Please change the shape of y to (n_samples, ), for example using ravel().\n",
      "  y = column_or_1d(y, warn=True)\n"
     ]
    },
    {
     "name": "stdout",
     "output_type": "stream",
     "text": [
      "xylose pyruvate\n"
     ]
    },
    {
     "name": "stderr",
     "output_type": "stream",
     "text": [
      "/opt/miniconda3/lib/python3.8/site-packages/sklearn/utils/validation.py:1143: DataConversionWarning: A column-vector y was passed when a 1d array was expected. Please change the shape of y to (n_samples, ), for example using ravel().\n",
      "  y = column_or_1d(y, warn=True)\n"
     ]
    },
    {
     "name": "stdout",
     "output_type": "stream",
     "text": [
      "xylose succinate\n"
     ]
    },
    {
     "name": "stderr",
     "output_type": "stream",
     "text": [
      "/opt/miniconda3/lib/python3.8/site-packages/sklearn/utils/validation.py:1143: DataConversionWarning: A column-vector y was passed when a 1d array was expected. Please change the shape of y to (n_samples, ), for example using ravel().\n",
      "  y = column_or_1d(y, warn=True)\n"
     ]
    },
    {
     "data": {
      "text/html": [
       "<div>\n",
       "<style scoped>\n",
       "    .dataframe tbody tr th:only-of-type {\n",
       "        vertical-align: middle;\n",
       "    }\n",
       "\n",
       "    .dataframe tbody tr th {\n",
       "        vertical-align: top;\n",
       "    }\n",
       "\n",
       "    .dataframe thead th {\n",
       "        text-align: right;\n",
       "    }\n",
       "</style>\n",
       "<table border=\"1\" class=\"dataframe\">\n",
       "  <thead>\n",
       "    <tr style=\"text-align: right;\">\n",
       "      <th></th>\n",
       "      <th></th>\n",
       "      <th>lambda_a</th>\n",
       "      <th>lambda_b</th>\n",
       "      <th>regression_slope</th>\n",
       "      <th>huber_regression_slope</th>\n",
       "      <th>ransac_regression_slope</th>\n",
       "      <th>est_slope</th>\n",
       "      <th>lambda_ratio</th>\n",
       "    </tr>\n",
       "    <tr>\n",
       "      <th>condition_a</th>\n",
       "      <th>condition_b</th>\n",
       "      <th></th>\n",
       "      <th></th>\n",
       "      <th></th>\n",
       "      <th></th>\n",
       "      <th></th>\n",
       "      <th></th>\n",
       "      <th></th>\n",
       "    </tr>\n",
       "  </thead>\n",
       "  <tbody>\n",
       "    <tr>\n",
       "      <th rowspan=\"5\" valign=\"top\">fructose</th>\n",
       "      <th>fumarate</th>\n",
       "      <td>0.65</td>\n",
       "      <td>0.42</td>\n",
       "      <td>0.761772</td>\n",
       "      <td>0.733766</td>\n",
       "      <td>0.848524</td>\n",
       "      <td>0.819025</td>\n",
       "      <td>0.646154</td>\n",
       "    </tr>\n",
       "    <tr>\n",
       "      <th>galactose</th>\n",
       "      <td>0.65</td>\n",
       "      <td>0.26</td>\n",
       "      <td>0.612077</td>\n",
       "      <td>0.565319</td>\n",
       "      <td>0.605675</td>\n",
       "      <td>0.718052</td>\n",
       "      <td>0.400000</td>\n",
       "    </tr>\n",
       "    <tr>\n",
       "      <th>glucosamine</th>\n",
       "      <td>0.65</td>\n",
       "      <td>0.46</td>\n",
       "      <td>0.800149</td>\n",
       "      <td>0.784260</td>\n",
       "      <td>0.886961</td>\n",
       "      <td>0.888979</td>\n",
       "      <td>0.707692</td>\n",
       "    </tr>\n",
       "    <tr>\n",
       "      <th>glucose</th>\n",
       "      <td>0.65</td>\n",
       "      <td>0.58</td>\n",
       "      <td>0.987564</td>\n",
       "      <td>0.957096</td>\n",
       "      <td>0.912154</td>\n",
       "      <td>0.929259</td>\n",
       "      <td>0.892308</td>\n",
       "    </tr>\n",
       "    <tr>\n",
       "      <th>glycerol</th>\n",
       "      <td>0.65</td>\n",
       "      <td>0.47</td>\n",
       "      <td>0.826714</td>\n",
       "      <td>0.810691</td>\n",
       "      <td>0.850275</td>\n",
       "      <td>0.869154</td>\n",
       "      <td>0.723077</td>\n",
       "    </tr>\n",
       "  </tbody>\n",
       "</table>\n",
       "</div>"
      ],
      "text/plain": [
       "                         lambda_a  lambda_b  regression_slope  \\\n",
       "condition_a condition_b                                         \n",
       "fructose    fumarate         0.65      0.42          0.761772   \n",
       "            galactose        0.65      0.26          0.612077   \n",
       "            glucosamine      0.65      0.46          0.800149   \n",
       "            glucose          0.65      0.58          0.987564   \n",
       "            glycerol         0.65      0.47          0.826714   \n",
       "\n",
       "                         huber_regression_slope  ransac_regression_slope  \\\n",
       "condition_a condition_b                                                    \n",
       "fructose    fumarate                   0.733766                 0.848524   \n",
       "            galactose                  0.565319                 0.605675   \n",
       "            glucosamine                0.784260                 0.886961   \n",
       "            glucose                    0.957096                 0.912154   \n",
       "            glycerol                   0.810691                 0.850275   \n",
       "\n",
       "                         est_slope  lambda_ratio  \n",
       "condition_a condition_b                           \n",
       "fructose    fumarate      0.819025      0.646154  \n",
       "            galactose     0.718052      0.400000  \n",
       "            glucosamine   0.888979      0.707692  \n",
       "            glucose       0.929259      0.892308  \n",
       "            glycerol      0.869154      0.723077  "
      ]
     },
     "execution_count": 6,
     "metadata": {},
     "output_type": "execute_result"
    }
   ],
   "source": [
    "# Consider single carbon source conditions only\n",
    "# Get the growth rates for each condition\n",
    "res_dict = dict(lambda_a=[], lambda_b=[], condition_a=[], condition_b=[], regression_slope=[],\n",
    "                huber_regression_slope=[], ransac_regression_slope=[], est_slope=[])\n",
    "for a, b in itertools.permutations(conds, 2):\n",
    "    print(a, b)\n",
    "    a_vals = schmidt_data[schmidt_data.condition == a].copies_per_cell\n",
    "    b_vals = schmidt_data[schmidt_data.condition == b].copies_per_cell\n",
    "\n",
    "    a_not_null = a_vals[a_vals.notnull()]\n",
    "    b_not_null = b_vals[b_vals.notnull()]\n",
    "    shared_ids = sorted(set(a_not_null.index).intersection(set(b_not_null.index)))\n",
    "    a_vals = a_not_null.loc[shared_ids]\n",
    "    b_vals = b_not_null.loc[shared_ids]\n",
    "\n",
    "    # Various ways of estimating the slope\n",
    "    # Standard linear regression\n",
    "    lr = LinearRegression(fit_intercept=False)\n",
    "    lr.fit(a_vals.values.reshape(-1, 1), b_vals.values.reshape(-1, 1))\n",
    "\n",
    "    # Huber regression -- more robust to outliers\n",
    "    hr = HuberRegressor(fit_intercept=False)\n",
    "    hr.fit(a_vals.values.reshape(-1, 1), b_vals.values.reshape(-1, 1))\n",
    "\n",
    "    # Random sample consensus regression -- more robust to outliers also\n",
    "    base_estimator = LinearRegression(fit_intercept=False)\n",
    "    rr = RANSACRegressor(base_estimator)\n",
    "    rr.fit(a_vals.values.reshape(-1, 1), b_vals.values.reshape(-1, 1))\n",
    "\n",
    "    # Estimate the slope of a linear regression by assuming the intercept is zero\n",
    "    # and taking the mean of the log ratios to get the slope.\n",
    "    mean_log_a = np.nanmean(np.log10(a_vals[a_vals > 0]))\n",
    "    mean_log_b = np.nanmean(np.log10(b_vals[b_vals > 0]))\n",
    "    est_log_intercept = mean_log_b - mean_log_a\n",
    "    est_linear_slope = np.power(10, est_log_intercept)\n",
    "\n",
    "    # make a little figure for each correlation that we calculate\n",
    "    plt.figure()\n",
    "    plt.xscale('log')\n",
    "    plt.yscale('log')\n",
    "    plt.scatter(a_vals, b_vals, label='{0} vs {1}'.format(a, b))\n",
    "    xs = np.linspace(a_vals.min(), a_vals.max(), 100)\n",
    "    plt.plot(xs, hr.predict(xs.reshape(-1, 1)), color='grey', ls='--', label='regression')\n",
    "    plt.title('{0} vs {1}'.format(a, b))\n",
    "\n",
    "    lambda_ratio = cond_lambdas.loc[b].growth_rate_hr / cond_lambdas.loc[a].growth_rate_hr\n",
    "    plt.text(0.1, 0.9, '$y =$ {0:.2f} $x$; $\\lambda_2 / \\lambda_1 =$ {1:.2f}'.format(lr.coef_[0][0], lambda_ratio), \n",
    "             ha='left', transform=plt.gca().transAxes)\n",
    "    plt.xlabel('{0}, $\\lambda_1$={1:.2f}'.format(a, cond_lambdas.loc[a].growth_rate_hr))\n",
    "    plt.ylabel('{0}, $\\lambda_2$={1:.2f}'.format(b, cond_lambdas.loc[b].growth_rate_hr))\n",
    "    plt.savefig('../output/{0}_vs_{1}.png'.format(a, b), facecolor='w', dpi=300)\n",
    "    plt.close()\n",
    "    \n",
    "    lambda_a = cond_lambdas.loc[a].growth_rate_hr\n",
    "    lambda_b = cond_lambdas.loc[b].growth_rate_hr\n",
    "    \n",
    "    res_dict['lambda_a'].append(lambda_a)\n",
    "    res_dict['lambda_b'].append(lambda_b)\n",
    "    res_dict['condition_a'].append(a)\n",
    "    res_dict['condition_b'].append(b)\n",
    "    res_dict['est_slope'].append(est_linear_slope)\n",
    "    res_dict['regression_slope'].append(lr.coef_[0][0])\n",
    "    res_dict['huber_regression_slope'].append(hr.coef_[0])\n",
    "    res_dict['ransac_regression_slope'].append(rr.estimator_.coef_[0][0])\n",
    "\n",
    "slopes_df = pd.DataFrame(res_dict).set_index('condition_a,condition_b'.split(','))\n",
    "slopes_df['lambda_ratio'] = slopes_df['lambda_b'] / slopes_df['lambda_a']\n",
    "slopes_df.to_csv('../data/schmidt_2016_regression_slopes.csv', index=True)\n",
    "slopes_df.head()"
   ]
  },
  {
   "cell_type": "code",
   "execution_count": 7,
   "metadata": {},
   "outputs": [
    {
     "data": {
      "image/png": "[encoded data removed]",
      "text/plain": [
       "<Figure size 432x288 with 1 Axes>"
      ]
     },
     "metadata": {
      "needs_background": "light"
     },
     "output_type": "display_data"
    }
   ],
   "source": [
    "sns.scatterplot(data=slopes_df, x='regression_slope', y='est_slope', label='simple est.')\n",
    "sns.scatterplot(data=slopes_df, x='regression_slope', y='huber_regression_slope', label='huber')\n",
    "sns.scatterplot(data=slopes_df, x='regression_slope', y='ransac_regression_slope', label='ransac')\n",
    "plt.xlabel('slope from ordinary least squares')\n",
    "plt.xlabel('slope from other approaches')\n",
    "plt.show()"
   ]
  },
  {
   "cell_type": "code",
   "execution_count": 8,
   "metadata": {},
   "outputs": [
    {
     "name": "stdout",
     "output_type": "stream",
     "text": [
      "\u001b[0;31mSignature:\u001b[0m\n",
      "\u001b[0msns\u001b[0m\u001b[0;34m.\u001b[0m\u001b[0mscatterplot\u001b[0m\u001b[0;34m(\u001b[0m\u001b[0;34m\u001b[0m\n",
      "\u001b[0;34m\u001b[0m    \u001b[0;34m*\u001b[0m\u001b[0;34m,\u001b[0m\u001b[0;34m\u001b[0m\n",
      "\u001b[0;34m\u001b[0m    \u001b[0mx\u001b[0m\u001b[0;34m=\u001b[0m\u001b[0;32mNone\u001b[0m\u001b[0;34m,\u001b[0m\u001b[0;34m\u001b[0m\n",
      "\u001b[0;34m\u001b[0m    \u001b[0my\u001b[0m\u001b[0;34m=\u001b[0m\u001b[0;32mNone\u001b[0m\u001b[0;34m,\u001b[0m\u001b[0;34m\u001b[0m\n",
      "\u001b[0;34m\u001b[0m    \u001b[0mhue\u001b[0m\u001b[0;34m=\u001b[0m\u001b[0;32mNone\u001b[0m\u001b[0;34m,\u001b[0m\u001b[0;34m\u001b[0m\n",
      "\u001b[0;34m\u001b[0m    \u001b[0mstyle\u001b[0m\u001b[0;34m=\u001b[0m\u001b[0;32mNone\u001b[0m\u001b[0;34m,\u001b[0m\u001b[0;34m\u001b[0m\n",
      "\u001b[0;34m\u001b[0m    \u001b[0msize\u001b[0m\u001b[0;34m=\u001b[0m\u001b[0;32mNone\u001b[0m\u001b[0;34m,\u001b[0m\u001b[0;34m\u001b[0m\n",
      "\u001b[0;34m\u001b[0m    \u001b[0mdata\u001b[0m\u001b[0;34m=\u001b[0m\u001b[0;32mNone\u001b[0m\u001b[0;34m,\u001b[0m\u001b[0;34m\u001b[0m\n",
      "\u001b[0;34m\u001b[0m    \u001b[0mpalette\u001b[0m\u001b[0;34m=\u001b[0m\u001b[0;32mNone\u001b[0m\u001b[0;34m,\u001b[0m\u001b[0;34m\u001b[0m\n",
      "\u001b[0;34m\u001b[0m    \u001b[0mhue_order\u001b[0m\u001b[0;34m=\u001b[0m\u001b[0;32mNone\u001b[0m\u001b[0;34m,\u001b[0m\u001b[0;34m\u001b[0m\n",
      "\u001b[0;34m\u001b[0m    \u001b[0mhue_norm\u001b[0m\u001b[0;34m=\u001b[0m\u001b[0;32mNone\u001b[0m\u001b[0;34m,\u001b[0m\u001b[0;34m\u001b[0m\n",
      "\u001b[0;34m\u001b[0m    \u001b[0msizes\u001b[0m\u001b[0;34m=\u001b[0m\u001b[0;32mNone\u001b[0m\u001b[0;34m,\u001b[0m\u001b[0;34m\u001b[0m\n",
      "\u001b[0;34m\u001b[0m    \u001b[0msize_order\u001b[0m\u001b[0;34m=\u001b[0m\u001b[0;32mNone\u001b[0m\u001b[0;34m,\u001b[0m\u001b[0;34m\u001b[0m\n",
      "\u001b[0;34m\u001b[0m    \u001b[0msize_norm\u001b[0m\u001b[0;34m=\u001b[0m\u001b[0;32mNone\u001b[0m\u001b[0;34m,\u001b[0m\u001b[0;34m\u001b[0m\n",
      "\u001b[0;34m\u001b[0m    \u001b[0mmarkers\u001b[0m\u001b[0;34m=\u001b[0m\u001b[0;32mTrue\u001b[0m\u001b[0;34m,\u001b[0m\u001b[0;34m\u001b[0m\n",
      "\u001b[0;34m\u001b[0m    \u001b[0mstyle_order\u001b[0m\u001b[0;34m=\u001b[0m\u001b[0;32mNone\u001b[0m\u001b[0;34m,\u001b[0m\u001b[0;34m\u001b[0m\n",
      "\u001b[0;34m\u001b[0m    \u001b[0mx_bins\u001b[0m\u001b[0;34m=\u001b[0m\u001b[0;32mNone\u001b[0m\u001b[0;34m,\u001b[0m\u001b[0;34m\u001b[0m\n",
      "\u001b[0;34m\u001b[0m    \u001b[0my_bins\u001b[0m\u001b[0;34m=\u001b[0m\u001b[0;32mNone\u001b[0m\u001b[0;34m,\u001b[0m\u001b[0;34m\u001b[0m\n",
      "\u001b[0;34m\u001b[0m    \u001b[0munits\u001b[0m\u001b[0;34m=\u001b[0m\u001b[0;32mNone\u001b[0m\u001b[0;34m,\u001b[0m\u001b[0;34m\u001b[0m\n",
      "\u001b[0;34m\u001b[0m    \u001b[0mestimator\u001b[0m\u001b[0;34m=\u001b[0m\u001b[0;32mNone\u001b[0m\u001b[0;34m,\u001b[0m\u001b[0;34m\u001b[0m\n",
      "\u001b[0;34m\u001b[0m    \u001b[0mci\u001b[0m\u001b[0;34m=\u001b[0m\u001b[0;36m95\u001b[0m\u001b[0;34m,\u001b[0m\u001b[0;34m\u001b[0m\n",
      "\u001b[0;34m\u001b[0m    \u001b[0mn_boot\u001b[0m\u001b[0;34m=\u001b[0m\u001b[0;36m1000\u001b[0m\u001b[0;34m,\u001b[0m\u001b[0;34m\u001b[0m\n",
      "\u001b[0;34m\u001b[0m    \u001b[0malpha\u001b[0m\u001b[0;34m=\u001b[0m\u001b[0;32mNone\u001b[0m\u001b[0;34m,\u001b[0m\u001b[0;34m\u001b[0m\n",
      "\u001b[0;34m\u001b[0m    \u001b[0mx_jitter\u001b[0m\u001b[0;34m=\u001b[0m\u001b[0;32mNone\u001b[0m\u001b[0;34m,\u001b[0m\u001b[0;34m\u001b[0m\n",
      "\u001b[0;34m\u001b[0m    \u001b[0my_jitter\u001b[0m\u001b[0;34m=\u001b[0m\u001b[0;32mNone\u001b[0m\u001b[0;34m,\u001b[0m\u001b[0;34m\u001b[0m\n",
      "\u001b[0;34m\u001b[0m    \u001b[0mlegend\u001b[0m\u001b[0;34m=\u001b[0m\u001b[0;34m'auto'\u001b[0m\u001b[0;34m,\u001b[0m\u001b[0;34m\u001b[0m\n",
      "\u001b[0;34m\u001b[0m    \u001b[0max\u001b[0m\u001b[0;34m=\u001b[0m\u001b[0;32mNone\u001b[0m\u001b[0;34m,\u001b[0m\u001b[0;34m\u001b[0m\n",
      "\u001b[0;34m\u001b[0m    \u001b[0;34m**\u001b[0m\u001b[0mkwargs\u001b[0m\u001b[0;34m,\u001b[0m\u001b[0;34m\u001b[0m\n",
      "\u001b[0;34m\u001b[0m\u001b[0;34m)\u001b[0m\u001b[0;34m\u001b[0m\u001b[0;34m\u001b[0m\u001b[0m\n",
      "\u001b[0;31mDocstring:\u001b[0m\n",
      "Draw a scatter plot with possibility of several semantic groupings.\n",
      "\n",
      "The relationship between ``x`` and ``y`` can be shown for different subsets\n",
      "of the data using the ``hue``, ``size``, and ``style`` parameters. These\n",
      "parameters control what visual semantics are used to identify the different\n",
      "subsets. It is possible to show up to three dimensions independently by\n",
      "using all three semantic types, but this style of plot can be hard to\n",
      "interpret and is often ineffective. Using redundant semantics (i.e. both\n",
      "``hue`` and ``style`` for the same variable) can be helpful for making\n",
      "graphics more accessible.\n",
      "\n",
      "See the :ref:`tutorial <relational_tutorial>` for more information.\n",
      "\n",
      "The default treatment of the ``hue`` (and to a lesser extent, ``size``)\n",
      "semantic, if present, depends on whether the variable is inferred to\n",
      "represent \"numeric\" or \"categorical\" data. In particular, numeric variables\n",
      "are represented with a sequential colormap by default, and the legend\n",
      "entries show regular \"ticks\" with values that may or may not exist in the\n",
      "data. This behavior can be controlled through various parameters, as\n",
      "described and illustrated below.\n",
      "\n",
      "Parameters\n",
      "----------\n",
      "x, y : vectors or keys in ``data``\n",
      "    Variables that specify positions on the x and y axes.\n",
      "hue : vector or key in ``data``\n",
      "    Grouping variable that will produce points with different colors.\n",
      "    Can be either categorical or numeric, although color mapping will\n",
      "    behave differently in latter case.\n",
      "size : vector or key in ``data``\n",
      "    Grouping variable that will produce points with different sizes.\n",
      "    Can be either categorical or numeric, although size mapping will\n",
      "    behave differently in latter case.\n",
      "style : vector or key in ``data``\n",
      "    Grouping variable that will produce points with different markers.\n",
      "    Can have a numeric dtype but will always be treated as categorical.\n",
      "data : :class:`pandas.DataFrame`, :class:`numpy.ndarray`, mapping, or sequence\n",
      "    Input data structure. Either a long-form collection of vectors that can be\n",
      "    assigned to named variables or a wide-form dataset that will be internally\n",
      "    reshaped.\n",
      "palette : string, list, dict, or :class:`matplotlib.colors.Colormap`\n",
      "    Method for choosing the colors to use when mapping the ``hue`` semantic.\n",
      "    String values are passed to :func:`color_palette`. List or dict values\n",
      "    imply categorical mapping, while a colormap object implies numeric mapping.\n",
      "hue_order : vector of strings\n",
      "    Specify the order of processing and plotting for categorical levels of the\n",
      "    ``hue`` semantic.\n",
      "hue_norm : tuple or :class:`matplotlib.colors.Normalize`\n",
      "    Either a pair of values that set the normalization range in data units\n",
      "    or an object that will map from data units into a [0, 1] interval. Usage\n",
      "    implies numeric mapping.\n",
      "sizes : list, dict, or tuple\n",
      "    An object that determines how sizes are chosen when ``size`` is used.\n",
      "    It can always be a list of size values or a dict mapping levels of the\n",
      "    ``size`` variable to sizes. When ``size``  is numeric, it can also be\n",
      "    a tuple specifying the minimum and maximum size to use such that other\n",
      "    values are normalized within this range.\n",
      "size_order : list\n",
      "    Specified order for appearance of the ``size`` variable levels,\n",
      "    otherwise they are determined from the data. Not relevant when the\n",
      "    ``size`` variable is numeric.\n",
      "size_norm : tuple or Normalize object\n",
      "    Normalization in data units for scaling plot objects when the\n",
      "    ``size`` variable is numeric.\n",
      "markers : boolean, list, or dictionary\n",
      "    Object determining how to draw the markers for different levels of the\n",
      "    ``style`` variable. Setting to ``True`` will use default markers, or\n",
      "    you can pass a list of markers or a dictionary mapping levels of the\n",
      "    ``style`` variable to markers. Setting to ``False`` will draw\n",
      "    marker-less lines.  Markers are specified as in matplotlib.\n",
      "style_order : list\n",
      "    Specified order for appearance of the ``style`` variable levels\n",
      "    otherwise they are determined from the data. Not relevant when the\n",
      "    ``style`` variable is numeric.\n",
      "{x,y}_bins : lists or arrays or functions\n",
      "    *Currently non-functional.*\n",
      "units : vector or key in ``data``\n",
      "    Grouping variable identifying sampling units. When used, a separate\n",
      "    line will be drawn for each unit with appropriate semantics, but no\n",
      "    legend entry will be added. Useful for showing distribution of\n",
      "    experimental replicates when exact identities are not needed.\n",
      "    *Currently non-functional.*\n",
      "estimator : name of pandas method or callable or None\n",
      "    Method for aggregating across multiple observations of the ``y``\n",
      "    variable at the same ``x`` level. If ``None``, all observations will\n",
      "    be drawn.\n",
      "    *Currently non-functional.*\n",
      "ci : int or \"sd\" or None\n",
      "    Size of the confidence interval to draw when aggregating with an\n",
      "    estimator. \"sd\" means to draw the standard deviation of the data.\n",
      "    Setting to ``None`` will skip bootstrapping.\n",
      "    *Currently non-functional.*\n",
      "n_boot : int\n",
      "    Number of bootstraps to use for computing the confidence interval.\n",
      "    *Currently non-functional.*\n",
      "alpha : float\n",
      "    Proportional opacity of the points.\n",
      "{x,y}_jitter : booleans or floats\n",
      "    *Currently non-functional.*\n",
      "legend : \"auto\", \"brief\", \"full\", or False\n",
      "    How to draw the legend. If \"brief\", numeric ``hue`` and ``size``\n",
      "    variables will be represented with a sample of evenly spaced values.\n",
      "    If \"full\", every group will get an entry in the legend. If \"auto\",\n",
      "    choose between brief or full representation based on number of levels.\n",
      "    If ``False``, no legend data is added and no legend is drawn.\n",
      "ax : :class:`matplotlib.axes.Axes`\n",
      "    Pre-existing axes for the plot. Otherwise, call :func:`matplotlib.pyplot.gca`\n",
      "    internally.\n",
      "kwargs : key, value mappings\n",
      "    Other keyword arguments are passed down to\n",
      "    :meth:`matplotlib.axes.Axes.scatter`.\n",
      "\n",
      "Returns\n",
      "-------\n",
      ":class:`matplotlib.axes.Axes`\n",
      "    The matplotlib axes containing the plot.\n",
      "\n",
      "See Also\n",
      "--------\n",
      "lineplot : Plot data using lines.\n",
      "stripplot : Plot a categorical scatter with jitter.\n",
      "swarmplot : Plot a categorical scatter with non-overlapping points.\n",
      "\n",
      "Examples\n",
      "--------\n",
      "\n",
      ".. include:: ../docstrings/scatterplot.rst\n",
      "\u001b[0;31mFile:\u001b[0m      /opt/miniconda3/lib/python3.8/site-packages/seaborn/relational.py\n",
      "\u001b[0;31mType:\u001b[0m      function\n"
     ]
    }
   ],
   "source": [
    "sns.scatterplot?"
   ]
  },
  {
   "cell_type": "code",
   "execution_count": 9,
   "metadata": {},
   "outputs": [
    {
     "data": {
      "text/html": [
       "<div>\n",
       "<style scoped>\n",
       "    .dataframe tbody tr th:only-of-type {\n",
       "        vertical-align: middle;\n",
       "    }\n",
       "\n",
       "    .dataframe tbody tr th {\n",
       "        vertical-align: top;\n",
       "    }\n",
       "\n",
       "    .dataframe thead th {\n",
       "        text-align: right;\n",
       "    }\n",
       "</style>\n",
       "<table border=\"1\" class=\"dataframe\">\n",
       "  <thead>\n",
       "    <tr style=\"text-align: right;\">\n",
       "      <th></th>\n",
       "      <th>gene_name</th>\n",
       "      <th>gene_product</th>\n",
       "      <th>mw_fg</th>\n",
       "      <th>go_terms</th>\n",
       "      <th>cog_class</th>\n",
       "      <th>cog_letter</th>\n",
       "      <th>cog_category</th>\n",
       "      <th>cog_desc</th>\n",
       "    </tr>\n",
       "    <tr>\n",
       "      <th>b_number</th>\n",
       "      <th></th>\n",
       "      <th></th>\n",
       "      <th></th>\n",
       "      <th></th>\n",
       "      <th></th>\n",
       "      <th></th>\n",
       "      <th></th>\n",
       "      <th></th>\n",
       "    </tr>\n",
       "  </thead>\n",
       "  <tbody>\n",
       "    <tr>\n",
       "      <th>b2511</th>\n",
       "      <td>der</td>\n",
       "      <td>50S ribosomal subunit stability factor</td>\n",
       "      <td>0.000091</td>\n",
       "      <td>GO:0005515; GO:0043023; GO:0097216; GO:0005829...</td>\n",
       "      <td>poorly characterized</td>\n",
       "      <td>R</td>\n",
       "      <td>general function prediction only</td>\n",
       "      <td>GTPase; multicopy suppressor of ftsJ</td>\n",
       "    </tr>\n",
       "    <tr>\n",
       "      <th>b2511</th>\n",
       "      <td>yfgk</td>\n",
       "      <td>50S ribosomal subunit stability factor</td>\n",
       "      <td>0.000091</td>\n",
       "      <td>GO:0005515; GO:0043023; GO:0097216; GO:0005829...</td>\n",
       "      <td>poorly characterized</td>\n",
       "      <td>R</td>\n",
       "      <td>general function prediction only</td>\n",
       "      <td>GTPase; multicopy suppressor of ftsJ</td>\n",
       "    </tr>\n",
       "    <tr>\n",
       "      <th>b2511</th>\n",
       "      <td>enga</td>\n",
       "      <td>50S ribosomal subunit stability factor</td>\n",
       "      <td>0.000091</td>\n",
       "      <td>GO:0005515; GO:0043023; GO:0097216; GO:0005829...</td>\n",
       "      <td>poorly characterized</td>\n",
       "      <td>R</td>\n",
       "      <td>general function prediction only</td>\n",
       "      <td>GTPase; multicopy suppressor of ftsJ</td>\n",
       "    </tr>\n",
       "    <tr>\n",
       "      <th>b2566</th>\n",
       "      <td>era</td>\n",
       "      <td>30S ribosomal subunit maturation GTPase Era</td>\n",
       "      <td>0.000056</td>\n",
       "      <td>GO:0000028; GO:0097216; GO:0005515; GO:0046777...</td>\n",
       "      <td>information storage and processing</td>\n",
       "      <td>J</td>\n",
       "      <td>translation, ribosomal structure and biogenesis</td>\n",
       "      <td>membrane-associated, 16S rRNA-binding GTPase</td>\n",
       "    </tr>\n",
       "    <tr>\n",
       "      <th>b2566</th>\n",
       "      <td>sdge</td>\n",
       "      <td>30S ribosomal subunit maturation GTPase Era</td>\n",
       "      <td>0.000056</td>\n",
       "      <td>GO:0000028; GO:0097216; GO:0005515; GO:0046777...</td>\n",
       "      <td>information storage and processing</td>\n",
       "      <td>J</td>\n",
       "      <td>translation, ribosomal structure and biogenesis</td>\n",
       "      <td>membrane-associated, 16S rRNA-binding GTPase</td>\n",
       "    </tr>\n",
       "    <tr>\n",
       "      <th>...</th>\n",
       "      <td>...</td>\n",
       "      <td>...</td>\n",
       "      <td>...</td>\n",
       "      <td>...</td>\n",
       "      <td>...</td>\n",
       "      <td>...</td>\n",
       "      <td>...</td>\n",
       "      <td>...</td>\n",
       "    </tr>\n",
       "    <tr>\n",
       "      <th>b1480</th>\n",
       "      <td>protein d</td>\n",
       "      <td>30S ribosomal subunit protein S22</td>\n",
       "      <td>0.000008</td>\n",
       "      <td>GO:0005737; GO:0022627; GO:0005829; GO:0006412...</td>\n",
       "      <td>Not Assigned</td>\n",
       "      <td>Not Assigned</td>\n",
       "      <td>Not Assigned</td>\n",
       "      <td>Not Assigned</td>\n",
       "    </tr>\n",
       "    <tr>\n",
       "      <th>b0905</th>\n",
       "      <td>ycao</td>\n",
       "      <td>ribosomal protein S12 methylthiotransferase ac...</td>\n",
       "      <td>0.000109</td>\n",
       "      <td>GO:0000287; GO:0047693; GO:0005829; GO:0018339</td>\n",
       "      <td>information storage and processing</td>\n",
       "      <td>J</td>\n",
       "      <td>translation, ribosomal structure and biogenesis</td>\n",
       "      <td>conserved protein</td>\n",
       "    </tr>\n",
       "    <tr>\n",
       "      <th>b0905</th>\n",
       "      <td>protein involved in &amp;beta;-methylthiolation of...</td>\n",
       "      <td>ribosomal protein S12 methylthiotransferase ac...</td>\n",
       "      <td>0.000109</td>\n",
       "      <td>GO:0000287; GO:0047693; GO:0005829; GO:0018339</td>\n",
       "      <td>information storage and processing</td>\n",
       "      <td>J</td>\n",
       "      <td>translation, ribosomal structure and biogenesis</td>\n",
       "      <td>conserved protein</td>\n",
       "    </tr>\n",
       "    <tr>\n",
       "      <th>b0296</th>\n",
       "      <td>ykgm</td>\n",
       "      <td>putative ribosomal protein</td>\n",
       "      <td>0.000016</td>\n",
       "      <td>GO:0005829; GO:0006412; GO:0003735; GO:0034224...</td>\n",
       "      <td>information storage and processing</td>\n",
       "      <td>J</td>\n",
       "      <td>translation, ribosomal structure and biogenesis</td>\n",
       "      <td>LSU ribosomal protein L31P</td>\n",
       "    </tr>\n",
       "    <tr>\n",
       "      <th>b4506</th>\n",
       "      <td>ykgo</td>\n",
       "      <td>putative ribosomal protein</td>\n",
       "      <td>0.000009</td>\n",
       "      <td>GO:0006412; GO:0005840; GO:0003735</td>\n",
       "      <td>Not Assigned</td>\n",
       "      <td>Not Assigned</td>\n",
       "      <td>Not Assigned</td>\n",
       "      <td>Not Assigned</td>\n",
       "    </tr>\n",
       "  </tbody>\n",
       "</table>\n",
       "<p>179 rows × 8 columns</p>\n",
       "</div>"
      ],
      "text/plain": [
       "                                                  gene_name  \\\n",
       "b_number                                                      \n",
       "b2511                                                   der   \n",
       "b2511                                                  yfgk   \n",
       "b2511                                                  enga   \n",
       "b2566                                                   era   \n",
       "b2566                                                  sdge   \n",
       "...                                                     ...   \n",
       "b1480                                             protein d   \n",
       "b0905                                                  ycao   \n",
       "b0905     protein involved in &beta;-methylthiolation of...   \n",
       "b0296                                                  ykgm   \n",
       "b4506                                                  ykgo   \n",
       "\n",
       "                                               gene_product     mw_fg  \\\n",
       "b_number                                                                \n",
       "b2511                50S ribosomal subunit stability factor  0.000091   \n",
       "b2511                50S ribosomal subunit stability factor  0.000091   \n",
       "b2511                50S ribosomal subunit stability factor  0.000091   \n",
       "b2566           30S ribosomal subunit maturation GTPase Era  0.000056   \n",
       "b2566           30S ribosomal subunit maturation GTPase Era  0.000056   \n",
       "...                                                     ...       ...   \n",
       "b1480                     30S ribosomal subunit protein S22  0.000008   \n",
       "b0905     ribosomal protein S12 methylthiotransferase ac...  0.000109   \n",
       "b0905     ribosomal protein S12 methylthiotransferase ac...  0.000109   \n",
       "b0296                            putative ribosomal protein  0.000016   \n",
       "b4506                            putative ribosomal protein  0.000009   \n",
       "\n",
       "                                                   go_terms  \\\n",
       "b_number                                                      \n",
       "b2511     GO:0005515; GO:0043023; GO:0097216; GO:0005829...   \n",
       "b2511     GO:0005515; GO:0043023; GO:0097216; GO:0005829...   \n",
       "b2511     GO:0005515; GO:0043023; GO:0097216; GO:0005829...   \n",
       "b2566     GO:0000028; GO:0097216; GO:0005515; GO:0046777...   \n",
       "b2566     GO:0000028; GO:0097216; GO:0005515; GO:0046777...   \n",
       "...                                                     ...   \n",
       "b1480     GO:0005737; GO:0022627; GO:0005829; GO:0006412...   \n",
       "b0905        GO:0000287; GO:0047693; GO:0005829; GO:0018339   \n",
       "b0905        GO:0000287; GO:0047693; GO:0005829; GO:0018339   \n",
       "b0296     GO:0005829; GO:0006412; GO:0003735; GO:0034224...   \n",
       "b4506                    GO:0006412; GO:0005840; GO:0003735   \n",
       "\n",
       "                                   cog_class    cog_letter  \\\n",
       "b_number                                                     \n",
       "b2511                   poorly characterized             R   \n",
       "b2511                   poorly characterized             R   \n",
       "b2511                   poorly characterized             R   \n",
       "b2566     information storage and processing             J   \n",
       "b2566     information storage and processing             J   \n",
       "...                                      ...           ...   \n",
       "b1480                           Not Assigned  Not Assigned   \n",
       "b0905     information storage and processing             J   \n",
       "b0905     information storage and processing             J   \n",
       "b0296     information storage and processing             J   \n",
       "b4506                           Not Assigned  Not Assigned   \n",
       "\n",
       "                                             cog_category  \\\n",
       "b_number                                                    \n",
       "b2511                    general function prediction only   \n",
       "b2511                    general function prediction only   \n",
       "b2511                    general function prediction only   \n",
       "b2566     translation, ribosomal structure and biogenesis   \n",
       "b2566     translation, ribosomal structure and biogenesis   \n",
       "...                                                   ...   \n",
       "b1480                                        Not Assigned   \n",
       "b0905     translation, ribosomal structure and biogenesis   \n",
       "b0905     translation, ribosomal structure and biogenesis   \n",
       "b0296     translation, ribosomal structure and biogenesis   \n",
       "b4506                                        Not Assigned   \n",
       "\n",
       "                                              cog_desc  \n",
       "b_number                                                \n",
       "b2511             GTPase; multicopy suppressor of ftsJ  \n",
       "b2511             GTPase; multicopy suppressor of ftsJ  \n",
       "b2511             GTPase; multicopy suppressor of ftsJ  \n",
       "b2566     membrane-associated, 16S rRNA-binding GTPase  \n",
       "b2566     membrane-associated, 16S rRNA-binding GTPase  \n",
       "...                                                ...  \n",
       "b1480                                     Not Assigned  \n",
       "b0905                                conserved protein  \n",
       "b0905                                conserved protein  \n",
       "b0296                       LSU ribosomal protein L31P  \n",
       "b4506                                     Not Assigned  \n",
       "\n",
       "[179 rows x 8 columns]"
      ]
     },
     "execution_count": 9,
     "metadata": {},
     "output_type": "execute_result"
    }
   ],
   "source": [
    "tmp2 = gene_metadata_df[gene_metadata_df.gene_product.notnull()].copy()\n",
    "mask = tmp2.gene_product.str.contains('ribosomal')\n",
    "tmp2[mask]\n"
   ]
  },
  {
   "cell_type": "code",
   "execution_count": 10,
   "metadata": {},
   "outputs": [
    {
     "name": "stdout",
     "output_type": "stream",
     "text": [
      "alpha_est_1 = 0.17\n",
      "alpha_est_2 = 0.25\n"
     ]
    },
    {
     "data": {
      "image/png": "[encoded data removed]",
      "text/plain": [
       "<Figure size 432x288 with 1 Axes>"
      ]
     },
     "metadata": {
      "needs_background": "light"
     },
     "output_type": "display_data"
    }
   ],
   "source": [
    "mask = np.logical_or(slopes_df.index.get_level_values(0) == 'glucose',\n",
    "                     slopes_df.index.get_level_values(1) == 'glucose')\n",
    "glucose_slopes = slopes_df[mask].reset_index()\n",
    "glucose_slopes\n",
    "\n",
    "xvals, yvals = [], []\n",
    "mask = glucose_slopes.condition_a == 'glucose'\n",
    "plt.scatter(glucose_slopes[mask].lambda_b, glucose_slopes[mask].huber_regression_slope, label='glucose')\n",
    "yvals.extend(glucose_slopes[mask].huber_regression_slope)\n",
    "xvals.extend(glucose_slopes[mask].lambda_b)\n",
    "\n",
    "reg = linregress(xvals, yvals)\n",
    "xs = np.linspace(0.2, 0.7, 100)\n",
    "plt.plot(xs, reg.slope*xs + reg.intercept, color='grey', ls='--')\n",
    "plt.text(0.95, 0.05, '$Y^*_1 / Y^*_2 = {0:.2f} + {1:.2f} \\lambda_2$'.format(reg.intercept, reg.slope),\n",
    "         transform=plt.gca().transAxes, ha='right')\n",
    "plt.xlabel('$\\lambda_2$')\n",
    "plt.ylabel('empirical slope $Y^*_1 / Y^*_2$')\n",
    "plt.title('glucose vs other carbon sources')\n",
    "\n",
    "lambda_1 = cond_lambdas.loc['glucose'].growth_rate_hr\n",
    "alpha_est_1 = reg.intercept * lambda_1 / (1-reg.intercept)\n",
    "alpha_est_2 = 1/reg.slope - lambda_1\n",
    "print('alpha_est_1 = {0:.2f}'.format(alpha_est_1))\n",
    "print('alpha_est_2 = {0:.2f}'.format(alpha_est_2))\n",
    "plt.show()"
   ]
  },
  {
   "cell_type": "code",
   "execution_count": 11,
   "metadata": {},
   "outputs": [
    {
     "name": "stdout",
     "output_type": "stream",
     "text": [
      "alpha_est_1 = 0.19\n",
      "alpha_est_2 = 0.17\n",
      "\n",
      "alpha_est_1 = 0.30\n",
      "alpha_est_2 = 0.33\n",
      "\n",
      "alpha_est_1 = 0.43\n",
      "alpha_est_2 = 0.46\n",
      "\n",
      "alpha_est_1 = 0.23\n",
      "alpha_est_2 = 0.28\n",
      "\n",
      "alpha_est_1 = 0.17\n",
      "alpha_est_2 = 0.25\n",
      "\n",
      "alpha_est_1 = 0.21\n",
      "alpha_est_2 = 0.25\n",
      "\n",
      "alpha_est_1 = 0.32\n",
      "alpha_est_2 = 0.29\n",
      "\n",
      "alpha_est_1 = 0.30\n",
      "alpha_est_2 = 0.32\n",
      "\n",
      "alpha_est_1 = 0.24\n",
      "alpha_est_2 = 0.27\n",
      "\n",
      "alpha_est_1 = 0.15\n",
      "alpha_est_2 = 0.20\n",
      "\n"
     ]
    },
    {
     "data": {
      "image/png": "[encoded data removed]",
      "text/plain": [
       "<Figure size 720x360 with 10 Axes>"
      ]
     },
     "metadata": {
      "needs_background": "light"
     },
     "output_type": "display_data"
    }
   ],
   "source": [
    "fig, axs = plt.subplots(nrows=2, ncols=5, figsize=(10, 5), sharex=True, sharey=True)\n",
    "flat_axs = axs.flatten()\n",
    "\n",
    "for i, (cond_id, cond_df) in enumerate(slopes_df.reset_index().groupby('condition_a')):\n",
    "    reg = linregress(cond_df.lambda_b, cond_df.huber_regression_slope)\n",
    "\n",
    "    lambda_1 = cond_lambdas.loc[cond_id].growth_rate_hr\n",
    "    alpha_est_1 = reg.intercept * lambda_1 / (1-reg.intercept)\n",
    "    alpha_est_2 = 1/reg.slope - lambda_1\n",
    "    print('alpha_est_1 = {0:.2f}'.format(alpha_est_1))\n",
    "    print('alpha_est_2 = {0:.2f}'.format(alpha_est_2))\n",
    "    print()\n",
    "\n",
    "    plt.sca(flat_axs[i])\n",
    "    plt.scatter(cond_df.lambda_b, cond_df.huber_regression_slope, label=cond_id)\n",
    "\n",
    "    xmin = cond_df.lambda_b.min()\n",
    "    xmax = cond_df.lambda_b.max()\n",
    "    xs = np.linspace(xmin-0.05, xmax+0.05, 100)\n",
    "    plt.plot(xs, reg.slope*xs + reg.intercept, color='grey', ls='--')\n",
    "    plt.text(0.95, 0.15, '$Y^*_1 / Y^*_2 = {0:.2f} + {1:.2f} \\lambda_2$'.format(reg.intercept, reg.slope),\n",
    "            transform=plt.gca().transAxes, ha='right', fontsize=8)\n",
    "    plt.text(0.95, 0.05, 'est. $\\\\alpha_1 \\\\approx {0:.2f}$; $\\\\alpha_1 \\\\approx {0:.2f}$'.format(alpha_est_1, alpha_est_2),\n",
    "             transform=plt.gca().transAxes, ha='right', fontsize=8)\n",
    "    \n",
    "    if i > 4:\n",
    "        plt.xlabel('$\\lambda_2$')\n",
    "    if i % 5 == 0:\n",
    "        plt.ylabel('empirical slope $Y^*_1 / Y^*_2$')\n",
    "    \n",
    "    plt.title('{0} vs others'.format(cond_id))\n",
    "\n",
    "plt.tight_layout()\n",
    "plt.savefig('../output/est_alpha.png', facecolor='white', dpi=300)\n",
    "plt.show()"
   ]
  },
  {
   "cell_type": "code",
   "execution_count": 12,
   "metadata": {},
   "outputs": [
    {
     "data": {
      "image/png": "[encoded data removed]",
      "text/plain": [
       "<Figure size 504x180 with 3 Axes>"
      ]
     },
     "metadata": {
      "needs_background": "light"
     },
     "output_type": "display_data"
    }
   ],
   "source": [
    "# Plot the expected ratio of Y1/Y2 as a function of lambda_2 \n",
    "# for different values of alpha (degradation) assuming \n",
    "# a reference lambda_1 of 1.0 hr^-1\n",
    "alphas = np.arange(0, 2, 0.1)\n",
    "lambdas = np.arange(0, 2, 0.1)\n",
    "\n",
    "A, L = np.meshgrid(alphas, lambdas)\n",
    "\n",
    "R = A + L / (1+A)\n",
    "\n",
    "fig, axs = plt.subplots(nrows=1, ncols=2, figsize=(7, 2.5))\n",
    "\n",
    "plt.sca(axs[0])\n",
    "plt.contourf(A, L, R, levels=20)\n",
    "plt.xlabel('$\\\\alpha$')\n",
    "plt.ylabel('$\\lambda_2 / \\lambda_1$')\n",
    "plt.colorbar()\n",
    "\n",
    "plt.sca(axs[1])\n",
    "\n",
    "ratio = (0.2 + lambdas) / (1 + 0.2)\n",
    "plt.plot(lambdas, ratio)\n",
    "plt.xlabel('$\\\\lambda$')\n",
    "plt.ylabel('expression slope if $\\\\alpha = 0.2$')\n",
    "\n",
    "plt.tight_layout()\n",
    "plt.show()"
   ]
  },
  {
   "cell_type": "code",
   "execution_count": null,
   "metadata": {},
   "outputs": [],
   "source": []
  }
 ],
 "metadata": {
  "kernelspec": {
   "display_name": "conda.base",
   "language": "python",
   "name": "conda.base"
  },
  "language_info": {
   "codemirror_mode": {
    "name": "ipython",
    "version": 3
   },
   "file_extension": ".py",
   "mimetype": "text/x-python",
   "name": "python",
   "nbconvert_exporter": "python",
   "pygments_lexer": "ipython3",
   "version": "3.8.5"
  }
 },
 "nbformat": 4,
 "nbformat_minor": 4
}
